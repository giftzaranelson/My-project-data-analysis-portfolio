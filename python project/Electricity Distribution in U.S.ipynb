{
 "cells": [
  {
   "cell_type": "markdown",
   "id": "5a917a89",
   "metadata": {},
   "source": [
    "## import library"
   ]
  },
  {
   "cell_type": "code",
   "execution_count": 174,
   "id": "556cf7fd",
   "metadata": {},
   "outputs": [],
   "source": [
    "import numpy as np\n",
    "\n",
    "import csv\n",
    "\n"
   ]
  },
  {
   "cell_type": "markdown",
   "id": "87e7fc59",
   "metadata": {},
   "source": [
    "## importing dataset"
   ]
  },
  {
   "cell_type": "code",
   "execution_count": 175,
   "id": "50d16f2e",
   "metadata": {},
   "outputs": [],
   "source": [
    "data = []\n",
    "\n",
    "with open(\"./raw_data\",\"r\") as csvfile:\n",
    "    file_reader = csv.reader(csvfile)\n",
    "    \n",
    "    for row in file_reader:\n",
    "        data.append(row)\n",
    "        \n",
    "# change data into numpy array\n",
    "data = np.array(data)"
   ]
  },
  {
   "cell_type": "code",
   "execution_count": 176,
   "id": "472d28d6",
   "metadata": {},
   "outputs": [
    {
     "data": {
      "text/plain": [
       "array([['MSN', 'YYYYMM', 'Value', 'Column_Order', 'Description', 'Unit'],\n",
       "       ['CLETPUS', '194913', '135451.32', '1',\n",
       "        'Electricity Net Generation From Coal, All Sectors',\n",
       "        'Million Kilowatthours'],\n",
       "       ['CLETPUS', '195013', '154519.994', '1',\n",
       "        'Electricity Net Generation From Coal, All Sectors',\n",
       "        'Million Kilowatthours'],\n",
       "       ...,\n",
       "       ['ELETPUS', '202209', '350919.559', '13',\n",
       "        'Electricity Net Generation Total (including from sources not shown), All Sectors',\n",
       "        'Million Kilowatthours'],\n",
       "       ['ELETPUS', '202210', '314048.288', '13',\n",
       "        'Electricity Net Generation Total (including from sources not shown), All Sectors',\n",
       "        'Million Kilowatthours'],\n",
       "       ['ELETPUS', '202211', '323198.745', '13',\n",
       "        'Electricity Net Generation Total (including from sources not shown), All Sectors',\n",
       "        'Million Kilowatthours']], dtype='<U80')"
      ]
     },
     "execution_count": 176,
     "metadata": {},
     "output_type": "execute_result"
    }
   ],
   "source": [
    "data"
   ]
  },
  {
   "cell_type": "code",
   "execution_count": 177,
   "id": "33a3f90c",
   "metadata": {},
   "outputs": [
    {
     "data": {
      "text/plain": [
       "(8737, 6)"
      ]
     },
     "execution_count": 177,
     "metadata": {},
     "output_type": "execute_result"
    }
   ],
   "source": [
    "data.shape"
   ]
  },
  {
   "cell_type": "markdown",
   "id": "98934493",
   "metadata": {},
   "source": [
    "## saving file"
   ]
  },
  {
   "cell_type": "code",
   "execution_count": 178,
   "id": "52a147c8",
   "metadata": {},
   "outputs": [
    {
     "ename": "PermissionError",
     "evalue": "[Errno 13] Permission denied: 'energy.csv'",
     "output_type": "error",
     "traceback": [
      "\u001b[1;31m---------------------------------------------------------------------------\u001b[0m",
      "\u001b[1;31mPermissionError\u001b[0m                           Traceback (most recent call last)",
      "Cell \u001b[1;32mIn[178], line 1\u001b[0m\n\u001b[1;32m----> 1\u001b[0m \u001b[43mnp\u001b[49m\u001b[38;5;241;43m.\u001b[39;49m\u001b[43msavetxt\u001b[49m\u001b[43m(\u001b[49m\u001b[38;5;124;43m\"\u001b[39;49m\u001b[38;5;124;43menergy.csv\u001b[39;49m\u001b[38;5;124;43m\"\u001b[39;49m\u001b[43m,\u001b[49m\u001b[43mdata\u001b[49m\u001b[43m,\u001b[49m\u001b[43m \u001b[49m\u001b[43mfmt\u001b[49m\u001b[38;5;241;43m=\u001b[39;49m\u001b[38;5;124;43m\"\u001b[39;49m\u001b[38;5;132;43;01m%s\u001b[39;49;00m\u001b[38;5;124;43m\"\u001b[39;49m\u001b[43m,\u001b[49m\u001b[43m \u001b[49m\u001b[43mdelimiter\u001b[49m\u001b[38;5;241;43m=\u001b[39;49m\u001b[38;5;124;43m\"\u001b[39;49m\u001b[38;5;124;43m,\u001b[39;49m\u001b[38;5;124;43m\"\u001b[39;49m\u001b[43m)\u001b[49m\n",
      "File \u001b[1;32m<__array_function__ internals>:180\u001b[0m, in \u001b[0;36msavetxt\u001b[1;34m(*args, **kwargs)\u001b[0m\n",
      "File \u001b[1;32m~\\anaconda3\\lib\\site-packages\\numpy\\lib\\npyio.py:1523\u001b[0m, in \u001b[0;36msavetxt\u001b[1;34m(fname, X, fmt, delimiter, newline, header, footer, comments, encoding)\u001b[0m\n\u001b[0;32m   1520\u001b[0m     fname \u001b[38;5;241m=\u001b[39m os_fspath(fname)\n\u001b[0;32m   1521\u001b[0m \u001b[38;5;28;01mif\u001b[39;00m _is_string_like(fname):\n\u001b[0;32m   1522\u001b[0m     \u001b[38;5;66;03m# datasource doesn't support creating a new file ...\u001b[39;00m\n\u001b[1;32m-> 1523\u001b[0m     \u001b[38;5;28;43mopen\u001b[39;49m\u001b[43m(\u001b[49m\u001b[43mfname\u001b[49m\u001b[43m,\u001b[49m\u001b[43m \u001b[49m\u001b[38;5;124;43m'\u001b[39;49m\u001b[38;5;124;43mwt\u001b[39;49m\u001b[38;5;124;43m'\u001b[39;49m\u001b[43m)\u001b[49m\u001b[38;5;241m.\u001b[39mclose()\n\u001b[0;32m   1524\u001b[0m     fh \u001b[38;5;241m=\u001b[39m np\u001b[38;5;241m.\u001b[39mlib\u001b[38;5;241m.\u001b[39m_datasource\u001b[38;5;241m.\u001b[39mopen(fname, \u001b[38;5;124m'\u001b[39m\u001b[38;5;124mwt\u001b[39m\u001b[38;5;124m'\u001b[39m, encoding\u001b[38;5;241m=\u001b[39mencoding)\n\u001b[0;32m   1525\u001b[0m     own_fh \u001b[38;5;241m=\u001b[39m \u001b[38;5;28;01mTrue\u001b[39;00m\n",
      "\u001b[1;31mPermissionError\u001b[0m: [Errno 13] Permission denied: 'energy.csv'"
     ]
    }
   ],
   "source": [
    "np.savetxt(\"energy.csv\",data, fmt=\"%s\", delimiter=\",\")"
   ]
  },
  {
   "cell_type": "markdown",
   "id": "e53c6bb0",
   "metadata": {},
   "source": [
    "## describe data"
   ]
  },
  {
   "cell_type": "code",
   "execution_count": 179,
   "id": "8701f1fc",
   "metadata": {},
   "outputs": [
    {
     "data": {
      "text/plain": [
       "array([['MSN', 'YYYYMM', 'Value', 'Column_Order', 'Description', 'Unit'],\n",
       "       ['CLETPUS', '194913', '135451.32', '1',\n",
       "        'Electricity Net Generation From Coal, All Sectors',\n",
       "        'Million Kilowatthours'],\n",
       "       ['CLETPUS', '195013', '154519.994', '1',\n",
       "        'Electricity Net Generation From Coal, All Sectors',\n",
       "        'Million Kilowatthours'],\n",
       "       ...,\n",
       "       ['ELETPUS', '202209', '350919.559', '13',\n",
       "        'Electricity Net Generation Total (including from sources not shown), All Sectors',\n",
       "        'Million Kilowatthours'],\n",
       "       ['ELETPUS', '202210', '314048.288', '13',\n",
       "        'Electricity Net Generation Total (including from sources not shown), All Sectors',\n",
       "        'Million Kilowatthours'],\n",
       "       ['ELETPUS', '202211', '323198.745', '13',\n",
       "        'Electricity Net Generation Total (including from sources not shown), All Sectors',\n",
       "        'Million Kilowatthours']], dtype='<U80')"
      ]
     },
     "execution_count": 179,
     "metadata": {},
     "output_type": "execute_result"
    }
   ],
   "source": [
    "data\n",
    "\n"
   ]
  },
  {
   "cell_type": "code",
   "execution_count": 180,
   "id": "df1b53a7",
   "metadata": {},
   "outputs": [
    {
     "data": {
      "text/plain": [
       "array(['MSN', 'YYYYMM', 'Value', 'Column_Order', 'Description', 'Unit'],\n",
       "      dtype='<U80')"
      ]
     },
     "execution_count": 180,
     "metadata": {},
     "output_type": "execute_result"
    }
   ],
   "source": [
    "header = data[0,:]\n",
    "header"
   ]
  },
  {
   "cell_type": "code",
   "execution_count": 181,
   "id": "dfd9e052",
   "metadata": {
    "scrolled": true
   },
   "outputs": [
    {
     "name": "stdout",
     "output_type": "stream",
     "text": [
      "header:\n",
      " ['MSN' 'YYYYMM' 'Value' 'Column_Order' 'Description' 'Unit'] \n",
      "\u000b",
      "alues\n",
      " [['CLETPUS' '194913' '135451.32' '1'\n",
      "  'Electricity Net Generation From Coal, All Sectors'\n",
      "  'Million Kilowatthours']\n",
      " ['CLETPUS' '195013' '154519.994' '1'\n",
      "  'Electricity Net Generation From Coal, All Sectors'\n",
      "  'Million Kilowatthours']\n",
      " ['CLETPUS' '195113' '185203.657' '1'\n",
      "  'Electricity Net Generation From Coal, All Sectors'\n",
      "  'Million Kilowatthours']\n",
      " ...\n",
      " ['ELETPUS' '202209' '350919.559' '13'\n",
      "  'Electricity Net Generation Total (including from sources not shown), All Sectors'\n",
      "  'Million Kilowatthours']\n",
      " ['ELETPUS' '202210' '314048.288' '13'\n",
      "  'Electricity Net Generation Total (including from sources not shown), All Sectors'\n",
      "  'Million Kilowatthours']\n",
      " ['ELETPUS' '202211' '323198.745' '13'\n",
      "  'Electricity Net Generation Total (including from sources not shown), All Sectors'\n",
      "  'Million Kilowatthours']]\n"
     ]
    }
   ],
   "source": [
    "header = data[0,:]\n",
    "values = data[1:,:]\n",
    "\n",
    "print(\"header:\\n\",header,\"\\n\\values\\n\",values)"
   ]
  },
  {
   "cell_type": "markdown",
   "id": "95a49005",
   "metadata": {},
   "source": [
    "## sources of energy in us"
   ]
  },
  {
   "cell_type": "code",
   "execution_count": 182,
   "id": "ba32c539",
   "metadata": {},
   "outputs": [
    {
     "data": {
      "text/plain": [
       "8736"
      ]
     },
     "execution_count": 182,
     "metadata": {},
     "output_type": "execute_result"
    }
   ],
   "source": [
    "len(values[:,4])"
   ]
  },
  {
   "cell_type": "code",
   "execution_count": 183,
   "id": "236bfe3b",
   "metadata": {},
   "outputs": [
    {
     "data": {
      "text/plain": [
       "array(['Electricity Net Generation From Coal, All Sectors',\n",
       "       'Electricity Net Generation From Conventional Hydroelectric Power, All Sectors',\n",
       "       'Electricity Net Generation From Geothermal, All Sectors',\n",
       "       'Electricity Net Generation From Hydroelectric Pumped Storage, All Sectors',\n",
       "       'Electricity Net Generation From Natural Gas, All Sectors',\n",
       "       'Electricity Net Generation From Nuclear Electric Power, All Sectors',\n",
       "       'Electricity Net Generation From Other Gases, All Sectors',\n",
       "       'Electricity Net Generation From Petroleum, All Sectors',\n",
       "       'Electricity Net Generation From Solar, All Sectors',\n",
       "       'Electricity Net Generation From Waste, All Sectors',\n",
       "       'Electricity Net Generation From Wind, All Sectors',\n",
       "       'Electricity Net Generation From Wood, All Sectors',\n",
       "       'Electricity Net Generation Total (including from sources not shown), All Sectors'],\n",
       "      dtype='<U80')"
      ]
     },
     "execution_count": 183,
     "metadata": {},
     "output_type": "execute_result"
    }
   ],
   "source": [
    "np.unique(values[:,4])"
   ]
  },
  {
   "cell_type": "code",
   "execution_count": 184,
   "id": "bb9b9657",
   "metadata": {},
   "outputs": [
    {
     "name": "stdout",
     "output_type": "stream",
     "text": [
      "US generate electricity from 13 source\n"
     ]
    }
   ],
   "source": [
    "num_of_source = len(np.unique(values[:,4]))\n",
    "\n",
    "print(\"US generate electricity from {} source\".format(num_of_source))"
   ]
  },
  {
   "cell_type": "markdown",
   "id": "3ecec21a",
   "metadata": {},
   "source": [
    "## Extract the wind energy data"
   ]
  },
  {
   "cell_type": "code",
   "execution_count": 185,
   "id": "ff27a2d5",
   "metadata": {},
   "outputs": [
    {
     "data": {
      "text/plain": [
       "(array([False, False, False, ..., False, False, False]),)"
      ]
     },
     "execution_count": 185,
     "metadata": {},
     "output_type": "execute_result"
    }
   ],
   "source": [
    "values[:,4] == 'Electricity Net Generation From Wind, All Sectors',\n"
   ]
  },
  {
   "cell_type": "code",
   "execution_count": 186,
   "id": "e711728b",
   "metadata": {},
   "outputs": [],
   "source": [
    "wind_cond = values[:,4] =='Electricity Net Generation From Wind, All Sectors',\n"
   ]
  },
  {
   "cell_type": "code",
   "execution_count": 252,
   "id": "d6add03d",
   "metadata": {},
   "outputs": [],
   "source": [
    "wind_data = values[wind_cond]"
   ]
  },
  {
   "cell_type": "code",
   "execution_count": 253,
   "id": "8be85e1b",
   "metadata": {},
   "outputs": [
    {
     "data": {
      "text/plain": [
       "(672, 6)"
      ]
     },
     "execution_count": 253,
     "metadata": {},
     "output_type": "execute_result"
    }
   ],
   "source": [
    "wind_data.shape"
   ]
  },
  {
   "cell_type": "markdown",
   "id": "c92b1714",
   "metadata": {},
   "source": [
    "## save into file"
   ]
  },
  {
   "cell_type": "code",
   "execution_count": 254,
   "id": "82a370c5",
   "metadata": {},
   "outputs": [
    {
     "ename": "PermissionError",
     "evalue": "[Errno 13] Permission denied: 'energy.csv'",
     "output_type": "error",
     "traceback": [
      "\u001b[1;31m---------------------------------------------------------------------------\u001b[0m",
      "\u001b[1;31mPermissionError\u001b[0m                           Traceback (most recent call last)",
      "Cell \u001b[1;32mIn[254], line 1\u001b[0m\n\u001b[1;32m----> 1\u001b[0m \u001b[43mnp\u001b[49m\u001b[38;5;241;43m.\u001b[39;49m\u001b[43msavetxt\u001b[49m\u001b[43m(\u001b[49m\u001b[38;5;124;43m\"\u001b[39;49m\u001b[38;5;124;43menergy.csv\u001b[39;49m\u001b[38;5;124;43m\"\u001b[39;49m\u001b[43m,\u001b[49m\u001b[43mdata\u001b[49m\u001b[43m,\u001b[49m\u001b[43m \u001b[49m\u001b[43mfmt\u001b[49m\u001b[38;5;241;43m=\u001b[39;49m\u001b[38;5;124;43m\"\u001b[39;49m\u001b[38;5;132;43;01m%s\u001b[39;49;00m\u001b[38;5;124;43m\"\u001b[39;49m\u001b[43m,\u001b[49m\u001b[43m \u001b[49m\u001b[43mdelimiter\u001b[49m\u001b[38;5;241;43m=\u001b[39;49m\u001b[38;5;124;43m\"\u001b[39;49m\u001b[38;5;124;43m,\u001b[39;49m\u001b[38;5;124;43m\"\u001b[39;49m\u001b[43m)\u001b[49m\n",
      "File \u001b[1;32m<__array_function__ internals>:180\u001b[0m, in \u001b[0;36msavetxt\u001b[1;34m(*args, **kwargs)\u001b[0m\n",
      "File \u001b[1;32m~\\anaconda3\\lib\\site-packages\\numpy\\lib\\npyio.py:1523\u001b[0m, in \u001b[0;36msavetxt\u001b[1;34m(fname, X, fmt, delimiter, newline, header, footer, comments, encoding)\u001b[0m\n\u001b[0;32m   1520\u001b[0m     fname \u001b[38;5;241m=\u001b[39m os_fspath(fname)\n\u001b[0;32m   1521\u001b[0m \u001b[38;5;28;01mif\u001b[39;00m _is_string_like(fname):\n\u001b[0;32m   1522\u001b[0m     \u001b[38;5;66;03m# datasource doesn't support creating a new file ...\u001b[39;00m\n\u001b[1;32m-> 1523\u001b[0m     \u001b[38;5;28;43mopen\u001b[39;49m\u001b[43m(\u001b[49m\u001b[43mfname\u001b[49m\u001b[43m,\u001b[49m\u001b[43m \u001b[49m\u001b[38;5;124;43m'\u001b[39;49m\u001b[38;5;124;43mwt\u001b[39;49m\u001b[38;5;124;43m'\u001b[39;49m\u001b[43m)\u001b[49m\u001b[38;5;241m.\u001b[39mclose()\n\u001b[0;32m   1524\u001b[0m     fh \u001b[38;5;241m=\u001b[39m np\u001b[38;5;241m.\u001b[39mlib\u001b[38;5;241m.\u001b[39m_datasource\u001b[38;5;241m.\u001b[39mopen(fname, \u001b[38;5;124m'\u001b[39m\u001b[38;5;124mwt\u001b[39m\u001b[38;5;124m'\u001b[39m, encoding\u001b[38;5;241m=\u001b[39mencoding)\n\u001b[0;32m   1525\u001b[0m     own_fh \u001b[38;5;241m=\u001b[39m \u001b[38;5;28;01mTrue\u001b[39;00m\n",
      "\u001b[1;31mPermissionError\u001b[0m: [Errno 13] Permission denied: 'energy.csv'"
     ]
    }
   ],
   "source": [
    "np.savetxt(\"energy.csv\",data, fmt=\"%s\", delimiter=\",\")"
   ]
  },
  {
   "cell_type": "code",
   "execution_count": 190,
   "id": "dc3a01f1",
   "metadata": {},
   "outputs": [
    {
     "data": {
      "text/plain": [
       "(array([False, False, False, ..., False, False, False]),)"
      ]
     },
     "execution_count": 190,
     "metadata": {},
     "output_type": "execute_result"
    }
   ],
   "source": [
    "values[:,4] == 'Electricity Net Generation from solar, All Sectors',"
   ]
  },
  {
   "cell_type": "code",
   "execution_count": 191,
   "id": "670d63ec",
   "metadata": {},
   "outputs": [],
   "source": [
    "solar_cond = values[:,4] == 'Electricity Net Generation from solar, All Sectors', "
   ]
  },
  {
   "cell_type": "code",
   "execution_count": 192,
   "id": "e8101999",
   "metadata": {},
   "outputs": [
    {
     "data": {
      "text/plain": [
       "array([], shape=(0, 6), dtype=bool)"
      ]
     },
     "execution_count": 192,
     "metadata": {},
     "output_type": "execute_result"
    }
   ],
   "source": [
    "solar_data == values[solar_cond]"
   ]
  },
  {
   "cell_type": "code",
   "execution_count": 193,
   "id": "1d635f2b",
   "metadata": {},
   "outputs": [
    {
     "data": {
      "text/plain": [
       "(0, 6)"
      ]
     },
     "execution_count": 193,
     "metadata": {},
     "output_type": "execute_result"
    }
   ],
   "source": [
    "solar_data.shape"
   ]
  },
  {
   "cell_type": "code",
   "execution_count": 194,
   "id": "4501432e",
   "metadata": {},
   "outputs": [],
   "source": [
    "np.savetxt(\"solar.csv\",data,fmt=\"%s\", delimiter=\",\")"
   ]
  },
  {
   "cell_type": "code",
   "execution_count": 195,
   "id": "8f6818c5",
   "metadata": {
    "scrolled": true
   },
   "outputs": [
    {
     "data": {
      "text/plain": [
       "(array([False, False, False, ..., False, False, False]),)"
      ]
     },
     "execution_count": 195,
     "metadata": {},
     "output_type": "execute_result"
    }
   ],
   "source": [
    "values[:,4] == 'Electricity Net Generation From Waste, All Sectors',\n"
   ]
  },
  {
   "cell_type": "code",
   "execution_count": 196,
   "id": "b48eb0c5",
   "metadata": {},
   "outputs": [],
   "source": [
    "waste_cond = values[:,4] == 'Electricity Net Generation From Waste, All Sectors',\n",
    "  "
   ]
  },
  {
   "cell_type": "code",
   "execution_count": 197,
   "id": "308c7621",
   "metadata": {},
   "outputs": [],
   "source": [
    "np.savetxt(\"waste.csv\",data,fmt=\"%s\",delimiter=\",\")"
   ]
  },
  {
   "cell_type": "code",
   "execution_count": 198,
   "id": "eba19584",
   "metadata": {},
   "outputs": [
    {
     "data": {
      "text/plain": [
       "(array([False, False, False, ..., False, False, False]),)"
      ]
     },
     "execution_count": 198,
     "metadata": {},
     "output_type": "execute_result"
    }
   ],
   "source": [
    "values[:,4] == 'Electricity Net Generation From Petroleum, All Sectors',\n"
   ]
  },
  {
   "cell_type": "code",
   "execution_count": 199,
   "id": "028750ed",
   "metadata": {},
   "outputs": [],
   "source": [
    "petroleum_cond = 'Electricity Net Generation From Petroleum, All Sectors',\n"
   ]
  },
  {
   "cell_type": "code",
   "execution_count": 200,
   "id": "8d6ca052",
   "metadata": {},
   "outputs": [],
   "source": [
    "np.savetxt(\"petroleum.csv\",data,fmt=\"%s\",delimiter=\",\")"
   ]
  },
  {
   "cell_type": "code",
   "execution_count": 201,
   "id": "ccef8abd",
   "metadata": {},
   "outputs": [
    {
     "data": {
      "text/plain": [
       "(array([False, False, False, ..., False, False, False]),)"
      ]
     },
     "execution_count": 201,
     "metadata": {},
     "output_type": "execute_result"
    }
   ],
   "source": [
    "values[:,4]== 'Electricity Net Generation From Wood, All Sectors',"
   ]
  },
  {
   "cell_type": "code",
   "execution_count": 202,
   "id": "b883c452",
   "metadata": {},
   "outputs": [],
   "source": [
    "wood_cond = 'Electricity Net Generation From Wood, All Sectors',\n"
   ]
  },
  {
   "cell_type": "code",
   "execution_count": 203,
   "id": "7c3c4765",
   "metadata": {},
   "outputs": [
    {
     "ename": "PermissionError",
     "evalue": "[Errno 13] Permission denied: 'wood.csv'",
     "output_type": "error",
     "traceback": [
      "\u001b[1;31m---------------------------------------------------------------------------\u001b[0m",
      "\u001b[1;31mPermissionError\u001b[0m                           Traceback (most recent call last)",
      "Cell \u001b[1;32mIn[203], line 1\u001b[0m\n\u001b[1;32m----> 1\u001b[0m \u001b[43mnp\u001b[49m\u001b[38;5;241;43m.\u001b[39;49m\u001b[43msavetxt\u001b[49m\u001b[43m(\u001b[49m\u001b[38;5;124;43m\"\u001b[39;49m\u001b[38;5;124;43mwood.csv\u001b[39;49m\u001b[38;5;124;43m\"\u001b[39;49m\u001b[43m,\u001b[49m\u001b[43mdata\u001b[49m\u001b[43m,\u001b[49m\u001b[43mfmt\u001b[49m\u001b[38;5;241;43m=\u001b[39;49m\u001b[38;5;124;43m\"\u001b[39;49m\u001b[38;5;132;43;01m%s\u001b[39;49;00m\u001b[38;5;124;43m\"\u001b[39;49m\u001b[43m,\u001b[49m\u001b[43mdelimiter\u001b[49m\u001b[38;5;241;43m=\u001b[39;49m\u001b[38;5;124;43m\"\u001b[39;49m\u001b[38;5;124;43m,\u001b[39;49m\u001b[38;5;124;43m\"\u001b[39;49m\u001b[43m)\u001b[49m\n",
      "File \u001b[1;32m<__array_function__ internals>:180\u001b[0m, in \u001b[0;36msavetxt\u001b[1;34m(*args, **kwargs)\u001b[0m\n",
      "File \u001b[1;32m~\\anaconda3\\lib\\site-packages\\numpy\\lib\\npyio.py:1523\u001b[0m, in \u001b[0;36msavetxt\u001b[1;34m(fname, X, fmt, delimiter, newline, header, footer, comments, encoding)\u001b[0m\n\u001b[0;32m   1520\u001b[0m     fname \u001b[38;5;241m=\u001b[39m os_fspath(fname)\n\u001b[0;32m   1521\u001b[0m \u001b[38;5;28;01mif\u001b[39;00m _is_string_like(fname):\n\u001b[0;32m   1522\u001b[0m     \u001b[38;5;66;03m# datasource doesn't support creating a new file ...\u001b[39;00m\n\u001b[1;32m-> 1523\u001b[0m     \u001b[38;5;28;43mopen\u001b[39;49m\u001b[43m(\u001b[49m\u001b[43mfname\u001b[49m\u001b[43m,\u001b[49m\u001b[43m \u001b[49m\u001b[38;5;124;43m'\u001b[39;49m\u001b[38;5;124;43mwt\u001b[39;49m\u001b[38;5;124;43m'\u001b[39;49m\u001b[43m)\u001b[49m\u001b[38;5;241m.\u001b[39mclose()\n\u001b[0;32m   1524\u001b[0m     fh \u001b[38;5;241m=\u001b[39m np\u001b[38;5;241m.\u001b[39mlib\u001b[38;5;241m.\u001b[39m_datasource\u001b[38;5;241m.\u001b[39mopen(fname, \u001b[38;5;124m'\u001b[39m\u001b[38;5;124mwt\u001b[39m\u001b[38;5;124m'\u001b[39m, encoding\u001b[38;5;241m=\u001b[39mencoding)\n\u001b[0;32m   1525\u001b[0m     own_fh \u001b[38;5;241m=\u001b[39m \u001b[38;5;28;01mTrue\u001b[39;00m\n",
      "\u001b[1;31mPermissionError\u001b[0m: [Errno 13] Permission denied: 'wood.csv'"
     ]
    }
   ],
   "source": [
    "np.savetxt(\"wood.csv\",data,fmt=\"%s\",delimiter=\",\")"
   ]
  },
  {
   "cell_type": "code",
   "execution_count": 204,
   "id": "e9e16586",
   "metadata": {},
   "outputs": [
    {
     "data": {
      "text/plain": [
       "(array([False, False, False, ..., False, False, False]),)"
      ]
     },
     "execution_count": 204,
     "metadata": {},
     "output_type": "execute_result"
    }
   ],
   "source": [
    "values[:,4]== 'Electricity Net Generation From Other Gases, All Sectors',\n"
   ]
  },
  {
   "cell_type": "code",
   "execution_count": 205,
   "id": "db2fcc02",
   "metadata": {},
   "outputs": [],
   "source": [
    "otherGases_cond = 'Electricity Net Generation From Other Gases, All Sectors',\n"
   ]
  },
  {
   "cell_type": "code",
   "execution_count": 206,
   "id": "c5d18cfc",
   "metadata": {},
   "outputs": [],
   "source": [
    "np.savetxt(\"other gases.csv\",data,fmt=\"%s\",delimiter=\",\")"
   ]
  },
  {
   "cell_type": "code",
   "execution_count": 207,
   "id": "2b3f1239",
   "metadata": {},
   "outputs": [
    {
     "data": {
      "text/plain": [
       "(array([False, False, False, ..., False, False, False]),)"
      ]
     },
     "execution_count": 207,
     "metadata": {},
     "output_type": "execute_result"
    }
   ],
   "source": [
    "values[:,4]== 'Electricity Net Generation From Nuclear Electric Power, All Sectors',\n"
   ]
  },
  {
   "cell_type": "code",
   "execution_count": 208,
   "id": "11330702",
   "metadata": {},
   "outputs": [],
   "source": [
    "NuclearElectricpower_cond = 'Electricity Net Generation From Nuclear Electric Power, All Sectors',\n"
   ]
  },
  {
   "cell_type": "code",
   "execution_count": 209,
   "id": "4e7125ee",
   "metadata": {},
   "outputs": [],
   "source": [
    "np.savetxt(\"NuclearElectricpower\",data,fmt=\"%s\",delimiter=\",\")"
   ]
  },
  {
   "cell_type": "code",
   "execution_count": 210,
   "id": "166adb30",
   "metadata": {},
   "outputs": [],
   "source": [
    "Hydroelectricpumpedstorage_cond = 'Electricity Net Generation From Hydroelectric Pumped Storage, All Sectors',\n"
   ]
  },
  {
   "cell_type": "code",
   "execution_count": 211,
   "id": "cb41ddeb",
   "metadata": {},
   "outputs": [
    {
     "data": {
      "text/plain": [
       "(array([False, False, False, ..., False, False, False]),)"
      ]
     },
     "execution_count": 211,
     "metadata": {},
     "output_type": "execute_result"
    }
   ],
   "source": [
    "values[:,4]==  'Electricity Net Generation From Hydroelectric Pumped Storage, All Sectors',\n"
   ]
  },
  {
   "cell_type": "code",
   "execution_count": 212,
   "id": "8a362467",
   "metadata": {},
   "outputs": [],
   "source": [
    "np.savetxt(\"Hydroelectricpumped\",data,fmt=\"%s\",delimiter=\",\")"
   ]
  },
  {
   "cell_type": "code",
   "execution_count": 213,
   "id": "0772f5e4",
   "metadata": {},
   "outputs": [],
   "source": [
    "NaturalGas_cond = 'Electricity Net Generation From Natural Gas, All Sectors',\n"
   ]
  },
  {
   "cell_type": "code",
   "execution_count": 214,
   "id": "1e47e147",
   "metadata": {},
   "outputs": [
    {
     "data": {
      "text/plain": [
       "(array([False, False, False, ..., False, False, False]),)"
      ]
     },
     "execution_count": 214,
     "metadata": {},
     "output_type": "execute_result"
    }
   ],
   "source": [
    "values[:,4]== 'Electricity Net Generation From Natural Gas, All Sectors',\n"
   ]
  },
  {
   "cell_type": "code",
   "execution_count": 215,
   "id": "4b236a4e",
   "metadata": {},
   "outputs": [],
   "source": [
    "np.savetxt(\"NaturalGas\",data,fmt=\"%s\",delimiter=\",\")"
   ]
  },
  {
   "cell_type": "code",
   "execution_count": 216,
   "id": "bf889770",
   "metadata": {},
   "outputs": [],
   "source": [
    "Geothermal_cond= 'Electricity Net Generation From Geothermal, All Sectors',\n"
   ]
  },
  {
   "cell_type": "code",
   "execution_count": 217,
   "id": "61c7f3be",
   "metadata": {},
   "outputs": [
    {
     "data": {
      "text/plain": [
       "(array([False, False, False, ..., False, False, False]),)"
      ]
     },
     "execution_count": 217,
     "metadata": {},
     "output_type": "execute_result"
    }
   ],
   "source": [
    "values[:,4]== 'Electricity Net Generation From Geothermal, All Sectors',\n"
   ]
  },
  {
   "cell_type": "code",
   "execution_count": 218,
   "id": "321c2fa0",
   "metadata": {},
   "outputs": [
    {
     "ename": "PermissionError",
     "evalue": "[Errno 13] Permission denied: 'Geothermal'",
     "output_type": "error",
     "traceback": [
      "\u001b[1;31m---------------------------------------------------------------------------\u001b[0m",
      "\u001b[1;31mPermissionError\u001b[0m                           Traceback (most recent call last)",
      "Cell \u001b[1;32mIn[218], line 1\u001b[0m\n\u001b[1;32m----> 1\u001b[0m \u001b[43mnp\u001b[49m\u001b[38;5;241;43m.\u001b[39;49m\u001b[43msavetxt\u001b[49m\u001b[43m(\u001b[49m\u001b[38;5;124;43m\"\u001b[39;49m\u001b[38;5;124;43mGeothermal\u001b[39;49m\u001b[38;5;124;43m\"\u001b[39;49m\u001b[43m,\u001b[49m\u001b[43mdata\u001b[49m\u001b[43m,\u001b[49m\u001b[43mfmt\u001b[49m\u001b[38;5;241;43m=\u001b[39;49m\u001b[38;5;124;43m\"\u001b[39;49m\u001b[38;5;132;43;01m%s\u001b[39;49;00m\u001b[38;5;124;43m\"\u001b[39;49m\u001b[43m,\u001b[49m\u001b[43mdelimiter\u001b[49m\u001b[38;5;241;43m=\u001b[39;49m\u001b[38;5;124;43m\"\u001b[39;49m\u001b[38;5;124;43m,\u001b[39;49m\u001b[38;5;124;43m\"\u001b[39;49m\u001b[43m)\u001b[49m\n",
      "File \u001b[1;32m<__array_function__ internals>:180\u001b[0m, in \u001b[0;36msavetxt\u001b[1;34m(*args, **kwargs)\u001b[0m\n",
      "File \u001b[1;32m~\\anaconda3\\lib\\site-packages\\numpy\\lib\\npyio.py:1523\u001b[0m, in \u001b[0;36msavetxt\u001b[1;34m(fname, X, fmt, delimiter, newline, header, footer, comments, encoding)\u001b[0m\n\u001b[0;32m   1520\u001b[0m     fname \u001b[38;5;241m=\u001b[39m os_fspath(fname)\n\u001b[0;32m   1521\u001b[0m \u001b[38;5;28;01mif\u001b[39;00m _is_string_like(fname):\n\u001b[0;32m   1522\u001b[0m     \u001b[38;5;66;03m# datasource doesn't support creating a new file ...\u001b[39;00m\n\u001b[1;32m-> 1523\u001b[0m     \u001b[38;5;28;43mopen\u001b[39;49m\u001b[43m(\u001b[49m\u001b[43mfname\u001b[49m\u001b[43m,\u001b[49m\u001b[43m \u001b[49m\u001b[38;5;124;43m'\u001b[39;49m\u001b[38;5;124;43mwt\u001b[39;49m\u001b[38;5;124;43m'\u001b[39;49m\u001b[43m)\u001b[49m\u001b[38;5;241m.\u001b[39mclose()\n\u001b[0;32m   1524\u001b[0m     fh \u001b[38;5;241m=\u001b[39m np\u001b[38;5;241m.\u001b[39mlib\u001b[38;5;241m.\u001b[39m_datasource\u001b[38;5;241m.\u001b[39mopen(fname, \u001b[38;5;124m'\u001b[39m\u001b[38;5;124mwt\u001b[39m\u001b[38;5;124m'\u001b[39m, encoding\u001b[38;5;241m=\u001b[39mencoding)\n\u001b[0;32m   1525\u001b[0m     own_fh \u001b[38;5;241m=\u001b[39m \u001b[38;5;28;01mTrue\u001b[39;00m\n",
      "\u001b[1;31mPermissionError\u001b[0m: [Errno 13] Permission denied: 'Geothermal'"
     ]
    }
   ],
   "source": [
    "np.savetxt(\"Geothermal\",data,fmt=\"%s\",delimiter=\",\")"
   ]
  },
  {
   "cell_type": "code",
   "execution_count": 219,
   "id": "882b9686",
   "metadata": {},
   "outputs": [],
   "source": [
    "Coal_cond= 'Electricity Net Generation From Coal, All Sectors',\n"
   ]
  },
  {
   "cell_type": "code",
   "execution_count": 220,
   "id": "96fabc47",
   "metadata": {},
   "outputs": [
    {
     "data": {
      "text/plain": [
       "(array([ True,  True,  True, ..., False, False, False]),)"
      ]
     },
     "execution_count": 220,
     "metadata": {},
     "output_type": "execute_result"
    }
   ],
   "source": [
    "values[:,4]== 'Electricity Net Generation From Coal, All Sectors',\n"
   ]
  },
  {
   "cell_type": "code",
   "execution_count": 221,
   "id": "f99aaeb8",
   "metadata": {},
   "outputs": [],
   "source": [
    "np.savetxt(\"Coal.csv\",data,fmt=\"%s\",delimiter=\",\")"
   ]
  },
  {
   "cell_type": "code",
   "execution_count": 222,
   "id": "676f9879",
   "metadata": {},
   "outputs": [],
   "source": [
    "\n",
    "Hydroelectricpower_cond= 'Electricity Net Generation From Conventional Hydroelectric Power, All Sectors',\n"
   ]
  },
  {
   "cell_type": "code",
   "execution_count": 223,
   "id": "4ffbadea",
   "metadata": {},
   "outputs": [
    {
     "data": {
      "text/plain": [
       "(array([False, False, False, ..., False, False, False]),)"
      ]
     },
     "execution_count": 223,
     "metadata": {},
     "output_type": "execute_result"
    }
   ],
   "source": [
    "values[:,4] == 'Electricity Net Generation From Conventional Hydroelectric Power, All Sectors',\n"
   ]
  },
  {
   "cell_type": "code",
   "execution_count": 224,
   "id": "bd0f7968",
   "metadata": {},
   "outputs": [],
   "source": [
    "np.savetxt(\"HydroelectricPower.csv\",data,fmt=\"%s\",delimiter=\",\")"
   ]
  },
  {
   "cell_type": "code",
   "execution_count": null,
   "id": "647e524c",
   "metadata": {},
   "outputs": [],
   "source": []
  },
  {
   "cell_type": "markdown",
   "id": "37e65aa4",
   "metadata": {},
   "source": [
    "## lets explore the wind data"
   ]
  },
  {
   "cell_type": "code",
   "execution_count": 225,
   "id": "210a8812",
   "metadata": {},
   "outputs": [
    {
     "data": {
      "text/plain": [
       "array([['WYETPUS', '194913', 'Not Available', '12',\n",
       "        'Electricity Net Generation From Wind, All Sectors',\n",
       "        'Million Kilowatthours'],\n",
       "       ['WYETPUS', '195013', 'Not Available', '12',\n",
       "        'Electricity Net Generation From Wind, All Sectors',\n",
       "        'Million Kilowatthours'],\n",
       "       ['WYETPUS', '195113', 'Not Available', '12',\n",
       "        'Electricity Net Generation From Wind, All Sectors',\n",
       "        'Million Kilowatthours'],\n",
       "       ...,\n",
       "       ['WYETPUS', '202209', '27024.307', '12',\n",
       "        'Electricity Net Generation From Wind, All Sectors',\n",
       "        'Million Kilowatthours'],\n",
       "       ['WYETPUS', '202210', '32824.906', '12',\n",
       "        'Electricity Net Generation From Wind, All Sectors',\n",
       "        'Million Kilowatthours'],\n",
       "       ['WYETPUS', '202211', '41971.407', '12',\n",
       "        'Electricity Net Generation From Wind, All Sectors',\n",
       "        'Million Kilowatthours']], dtype='<U80')"
      ]
     },
     "execution_count": 225,
     "metadata": {},
     "output_type": "execute_result"
    }
   ],
   "source": [
    "wind_data"
   ]
  },
  {
   "cell_type": "markdown",
   "id": "e007ff01",
   "metadata": {},
   "source": [
    "## EDA -Exploratory data Analysis"
   ]
  },
  {
   "cell_type": "code",
   "execution_count": 226,
   "id": "c5d2f91a",
   "metadata": {},
   "outputs": [
    {
     "name": "stdout",
     "output_type": "stream",
     "text": [
      "Row:  672\n",
      "Column:  6\n"
     ]
    }
   ],
   "source": [
    "# return the shape of the data\n",
    "print(\"Row: \",wind_data.shape[0])\n",
    "print(\"Column: \",wind_data.shape[1])"
   ]
  },
  {
   "cell_type": "markdown",
   "id": "56736765",
   "metadata": {},
   "source": [
    "## Data cleaning"
   ]
  },
  {
   "cell_type": "markdown",
   "id": "93572573",
   "metadata": {},
   "source": [
    "in the value column, some data point include \"Not Available\" which means  energy were not recorded under wind for the year"
   ]
  },
  {
   "cell_type": "code",
   "execution_count": 227,
   "id": "4b30590c",
   "metadata": {},
   "outputs": [
    {
     "data": {
      "text/plain": [
       "array([ True,  True,  True,  True,  True,  True,  True,  True,  True,\n",
       "        True,  True,  True,  True,  True,  True,  True,  True,  True,\n",
       "        True,  True,  True,  True,  True,  True,  True,  True,  True,\n",
       "        True,  True,  True,  True,  True,  True,  True,  True,  True,\n",
       "        True,  True,  True,  True,  True,  True,  True,  True,  True,\n",
       "        True,  True,  True,  True,  True,  True,  True,  True,  True,\n",
       "        True,  True,  True,  True,  True,  True,  True,  True,  True,\n",
       "        True,  True,  True,  True,  True,  True,  True,  True,  True,\n",
       "        True,  True,  True,  True,  True,  True,  True,  True,  True,\n",
       "        True,  True,  True,  True,  True,  True,  True,  True,  True,\n",
       "        True,  True,  True,  True,  True,  True,  True,  True,  True,\n",
       "        True,  True,  True,  True,  True,  True,  True,  True,  True,\n",
       "        True,  True,  True,  True,  True,  True,  True,  True,  True,\n",
       "        True,  True,  True,  True,  True,  True,  True,  True,  True,\n",
       "        True,  True,  True,  True,  True,  True,  True,  True,  True,\n",
       "        True,  True,  True,  True,  True,  True,  True,  True,  True,\n",
       "        True,  True,  True,  True,  True,  True,  True,  True,  True,\n",
       "        True, False, False, False, False, False, False, False, False,\n",
       "       False, False, False, False, False, False, False, False, False,\n",
       "       False, False, False, False, False, False, False, False, False,\n",
       "       False, False, False, False, False, False, False, False, False,\n",
       "       False, False, False, False, False, False, False, False, False,\n",
       "       False, False, False, False, False, False, False, False, False,\n",
       "       False, False, False, False, False, False, False, False, False,\n",
       "       False, False, False, False, False, False, False, False, False,\n",
       "       False, False, False, False, False, False, False, False, False,\n",
       "       False, False, False, False, False, False, False, False, False,\n",
       "       False, False, False, False, False, False, False, False, False,\n",
       "       False, False, False, False, False, False, False, False, False,\n",
       "       False, False, False, False, False, False, False, False, False,\n",
       "       False, False, False, False, False, False, False, False, False,\n",
       "       False, False, False, False, False, False, False, False, False,\n",
       "       False, False, False, False, False, False, False, False, False,\n",
       "       False, False, False, False, False, False, False, False, False,\n",
       "       False, False, False, False, False, False, False, False, False,\n",
       "       False, False, False, False, False, False, False, False, False,\n",
       "       False, False, False, False, False, False, False, False, False,\n",
       "       False, False, False, False, False, False, False, False, False,\n",
       "       False, False, False, False, False, False, False, False, False,\n",
       "       False, False, False, False, False, False, False, False, False,\n",
       "       False, False, False, False, False, False, False, False, False,\n",
       "       False, False, False, False, False, False, False, False, False,\n",
       "       False, False, False, False, False, False, False, False, False,\n",
       "       False, False, False, False, False, False, False, False, False,\n",
       "       False, False, False, False, False, False, False, False, False,\n",
       "       False, False, False, False, False, False, False, False, False,\n",
       "       False, False, False, False, False, False, False, False, False,\n",
       "       False, False, False, False, False, False, False, False, False,\n",
       "       False, False, False, False, False, False, False, False, False,\n",
       "       False, False, False, False, False, False, False, False, False,\n",
       "       False, False, False, False, False, False, False, False, False,\n",
       "       False, False, False, False, False, False, False, False, False,\n",
       "       False, False, False, False, False, False, False, False, False,\n",
       "       False, False, False, False, False, False, False, False, False,\n",
       "       False, False, False, False, False, False, False, False, False,\n",
       "       False, False, False, False, False, False, False, False, False,\n",
       "       False, False, False, False, False, False, False, False, False,\n",
       "       False, False, False, False, False, False, False, False, False,\n",
       "       False, False, False, False, False, False, False, False, False,\n",
       "       False, False, False, False, False, False, False, False, False,\n",
       "       False, False, False, False, False, False, False, False, False,\n",
       "       False, False, False, False, False, False, False, False, False,\n",
       "       False, False, False, False, False, False, False, False, False,\n",
       "       False, False, False, False, False, False, False, False, False,\n",
       "       False, False, False, False, False, False, False, False, False,\n",
       "       False, False, False, False, False, False, False, False, False,\n",
       "       False, False, False, False, False, False, False, False, False,\n",
       "       False, False, False, False, False, False, False, False, False,\n",
       "       False, False, False, False, False, False, False, False, False,\n",
       "       False, False, False, False, False, False, False, False, False,\n",
       "       False, False, False, False, False, False, False, False, False,\n",
       "       False, False, False, False, False, False, False, False, False,\n",
       "       False, False, False, False, False, False, False, False, False,\n",
       "       False, False, False, False, False, False, False, False, False,\n",
       "       False, False, False, False, False, False])"
      ]
     },
     "execution_count": 227,
     "metadata": {},
     "output_type": "execute_result"
    }
   ],
   "source": [
    "wind_data[:,2] == \"Not Available\""
   ]
  },
  {
   "cell_type": "code",
   "execution_count": 228,
   "id": "2df5102a",
   "metadata": {},
   "outputs": [
    {
     "data": {
      "text/plain": [
       "array([['WYETPUS', '194913', 'Not Available', '12',\n",
       "        'Electricity Net Generation From Wind, All Sectors',\n",
       "        'Million Kilowatthours'],\n",
       "       ['WYETPUS', '195013', 'Not Available', '12',\n",
       "        'Electricity Net Generation From Wind, All Sectors',\n",
       "        'Million Kilowatthours'],\n",
       "       ['WYETPUS', '195113', 'Not Available', '12',\n",
       "        'Electricity Net Generation From Wind, All Sectors',\n",
       "        'Million Kilowatthours'],\n",
       "       ['WYETPUS', '195213', 'Not Available', '12',\n",
       "        'Electricity Net Generation From Wind, All Sectors',\n",
       "        'Million Kilowatthours'],\n",
       "       ['WYETPUS', '195313', 'Not Available', '12',\n",
       "        'Electricity Net Generation From Wind, All Sectors',\n",
       "        'Million Kilowatthours'],\n",
       "       ['WYETPUS', '195413', 'Not Available', '12',\n",
       "        'Electricity Net Generation From Wind, All Sectors',\n",
       "        'Million Kilowatthours'],\n",
       "       ['WYETPUS', '195513', 'Not Available', '12',\n",
       "        'Electricity Net Generation From Wind, All Sectors',\n",
       "        'Million Kilowatthours'],\n",
       "       ['WYETPUS', '195613', 'Not Available', '12',\n",
       "        'Electricity Net Generation From Wind, All Sectors',\n",
       "        'Million Kilowatthours'],\n",
       "       ['WYETPUS', '195713', 'Not Available', '12',\n",
       "        'Electricity Net Generation From Wind, All Sectors',\n",
       "        'Million Kilowatthours'],\n",
       "       ['WYETPUS', '195813', 'Not Available', '12',\n",
       "        'Electricity Net Generation From Wind, All Sectors',\n",
       "        'Million Kilowatthours'],\n",
       "       ['WYETPUS', '195913', 'Not Available', '12',\n",
       "        'Electricity Net Generation From Wind, All Sectors',\n",
       "        'Million Kilowatthours'],\n",
       "       ['WYETPUS', '196013', 'Not Available', '12',\n",
       "        'Electricity Net Generation From Wind, All Sectors',\n",
       "        'Million Kilowatthours'],\n",
       "       ['WYETPUS', '196113', 'Not Available', '12',\n",
       "        'Electricity Net Generation From Wind, All Sectors',\n",
       "        'Million Kilowatthours'],\n",
       "       ['WYETPUS', '196213', 'Not Available', '12',\n",
       "        'Electricity Net Generation From Wind, All Sectors',\n",
       "        'Million Kilowatthours'],\n",
       "       ['WYETPUS', '196313', 'Not Available', '12',\n",
       "        'Electricity Net Generation From Wind, All Sectors',\n",
       "        'Million Kilowatthours'],\n",
       "       ['WYETPUS', '196413', 'Not Available', '12',\n",
       "        'Electricity Net Generation From Wind, All Sectors',\n",
       "        'Million Kilowatthours'],\n",
       "       ['WYETPUS', '196513', 'Not Available', '12',\n",
       "        'Electricity Net Generation From Wind, All Sectors',\n",
       "        'Million Kilowatthours'],\n",
       "       ['WYETPUS', '196613', 'Not Available', '12',\n",
       "        'Electricity Net Generation From Wind, All Sectors',\n",
       "        'Million Kilowatthours'],\n",
       "       ['WYETPUS', '196713', 'Not Available', '12',\n",
       "        'Electricity Net Generation From Wind, All Sectors',\n",
       "        'Million Kilowatthours'],\n",
       "       ['WYETPUS', '196813', 'Not Available', '12',\n",
       "        'Electricity Net Generation From Wind, All Sectors',\n",
       "        'Million Kilowatthours'],\n",
       "       ['WYETPUS', '196913', 'Not Available', '12',\n",
       "        'Electricity Net Generation From Wind, All Sectors',\n",
       "        'Million Kilowatthours'],\n",
       "       ['WYETPUS', '197013', 'Not Available', '12',\n",
       "        'Electricity Net Generation From Wind, All Sectors',\n",
       "        'Million Kilowatthours'],\n",
       "       ['WYETPUS', '197113', 'Not Available', '12',\n",
       "        'Electricity Net Generation From Wind, All Sectors',\n",
       "        'Million Kilowatthours'],\n",
       "       ['WYETPUS', '197213', 'Not Available', '12',\n",
       "        'Electricity Net Generation From Wind, All Sectors',\n",
       "        'Million Kilowatthours'],\n",
       "       ['WYETPUS', '197301', 'Not Available', '12',\n",
       "        'Electricity Net Generation From Wind, All Sectors',\n",
       "        'Million Kilowatthours'],\n",
       "       ['WYETPUS', '197302', 'Not Available', '12',\n",
       "        'Electricity Net Generation From Wind, All Sectors',\n",
       "        'Million Kilowatthours'],\n",
       "       ['WYETPUS', '197303', 'Not Available', '12',\n",
       "        'Electricity Net Generation From Wind, All Sectors',\n",
       "        'Million Kilowatthours'],\n",
       "       ['WYETPUS', '197304', 'Not Available', '12',\n",
       "        'Electricity Net Generation From Wind, All Sectors',\n",
       "        'Million Kilowatthours'],\n",
       "       ['WYETPUS', '197305', 'Not Available', '12',\n",
       "        'Electricity Net Generation From Wind, All Sectors',\n",
       "        'Million Kilowatthours'],\n",
       "       ['WYETPUS', '197306', 'Not Available', '12',\n",
       "        'Electricity Net Generation From Wind, All Sectors',\n",
       "        'Million Kilowatthours'],\n",
       "       ['WYETPUS', '197307', 'Not Available', '12',\n",
       "        'Electricity Net Generation From Wind, All Sectors',\n",
       "        'Million Kilowatthours'],\n",
       "       ['WYETPUS', '197308', 'Not Available', '12',\n",
       "        'Electricity Net Generation From Wind, All Sectors',\n",
       "        'Million Kilowatthours'],\n",
       "       ['WYETPUS', '197309', 'Not Available', '12',\n",
       "        'Electricity Net Generation From Wind, All Sectors',\n",
       "        'Million Kilowatthours'],\n",
       "       ['WYETPUS', '197310', 'Not Available', '12',\n",
       "        'Electricity Net Generation From Wind, All Sectors',\n",
       "        'Million Kilowatthours'],\n",
       "       ['WYETPUS', '197311', 'Not Available', '12',\n",
       "        'Electricity Net Generation From Wind, All Sectors',\n",
       "        'Million Kilowatthours'],\n",
       "       ['WYETPUS', '197312', 'Not Available', '12',\n",
       "        'Electricity Net Generation From Wind, All Sectors',\n",
       "        'Million Kilowatthours'],\n",
       "       ['WYETPUS', '197313', 'Not Available', '12',\n",
       "        'Electricity Net Generation From Wind, All Sectors',\n",
       "        'Million Kilowatthours'],\n",
       "       ['WYETPUS', '197401', 'Not Available', '12',\n",
       "        'Electricity Net Generation From Wind, All Sectors',\n",
       "        'Million Kilowatthours'],\n",
       "       ['WYETPUS', '197402', 'Not Available', '12',\n",
       "        'Electricity Net Generation From Wind, All Sectors',\n",
       "        'Million Kilowatthours'],\n",
       "       ['WYETPUS', '197403', 'Not Available', '12',\n",
       "        'Electricity Net Generation From Wind, All Sectors',\n",
       "        'Million Kilowatthours'],\n",
       "       ['WYETPUS', '197404', 'Not Available', '12',\n",
       "        'Electricity Net Generation From Wind, All Sectors',\n",
       "        'Million Kilowatthours'],\n",
       "       ['WYETPUS', '197405', 'Not Available', '12',\n",
       "        'Electricity Net Generation From Wind, All Sectors',\n",
       "        'Million Kilowatthours'],\n",
       "       ['WYETPUS', '197406', 'Not Available', '12',\n",
       "        'Electricity Net Generation From Wind, All Sectors',\n",
       "        'Million Kilowatthours'],\n",
       "       ['WYETPUS', '197407', 'Not Available', '12',\n",
       "        'Electricity Net Generation From Wind, All Sectors',\n",
       "        'Million Kilowatthours'],\n",
       "       ['WYETPUS', '197408', 'Not Available', '12',\n",
       "        'Electricity Net Generation From Wind, All Sectors',\n",
       "        'Million Kilowatthours'],\n",
       "       ['WYETPUS', '197409', 'Not Available', '12',\n",
       "        'Electricity Net Generation From Wind, All Sectors',\n",
       "        'Million Kilowatthours'],\n",
       "       ['WYETPUS', '197410', 'Not Available', '12',\n",
       "        'Electricity Net Generation From Wind, All Sectors',\n",
       "        'Million Kilowatthours'],\n",
       "       ['WYETPUS', '197411', 'Not Available', '12',\n",
       "        'Electricity Net Generation From Wind, All Sectors',\n",
       "        'Million Kilowatthours'],\n",
       "       ['WYETPUS', '197412', 'Not Available', '12',\n",
       "        'Electricity Net Generation From Wind, All Sectors',\n",
       "        'Million Kilowatthours'],\n",
       "       ['WYETPUS', '197413', 'Not Available', '12',\n",
       "        'Electricity Net Generation From Wind, All Sectors',\n",
       "        'Million Kilowatthours'],\n",
       "       ['WYETPUS', '197501', 'Not Available', '12',\n",
       "        'Electricity Net Generation From Wind, All Sectors',\n",
       "        'Million Kilowatthours'],\n",
       "       ['WYETPUS', '197502', 'Not Available', '12',\n",
       "        'Electricity Net Generation From Wind, All Sectors',\n",
       "        'Million Kilowatthours'],\n",
       "       ['WYETPUS', '197503', 'Not Available', '12',\n",
       "        'Electricity Net Generation From Wind, All Sectors',\n",
       "        'Million Kilowatthours'],\n",
       "       ['WYETPUS', '197504', 'Not Available', '12',\n",
       "        'Electricity Net Generation From Wind, All Sectors',\n",
       "        'Million Kilowatthours'],\n",
       "       ['WYETPUS', '197505', 'Not Available', '12',\n",
       "        'Electricity Net Generation From Wind, All Sectors',\n",
       "        'Million Kilowatthours'],\n",
       "       ['WYETPUS', '197506', 'Not Available', '12',\n",
       "        'Electricity Net Generation From Wind, All Sectors',\n",
       "        'Million Kilowatthours'],\n",
       "       ['WYETPUS', '197507', 'Not Available', '12',\n",
       "        'Electricity Net Generation From Wind, All Sectors',\n",
       "        'Million Kilowatthours'],\n",
       "       ['WYETPUS', '197508', 'Not Available', '12',\n",
       "        'Electricity Net Generation From Wind, All Sectors',\n",
       "        'Million Kilowatthours'],\n",
       "       ['WYETPUS', '197509', 'Not Available', '12',\n",
       "        'Electricity Net Generation From Wind, All Sectors',\n",
       "        'Million Kilowatthours'],\n",
       "       ['WYETPUS', '197510', 'Not Available', '12',\n",
       "        'Electricity Net Generation From Wind, All Sectors',\n",
       "        'Million Kilowatthours'],\n",
       "       ['WYETPUS', '197511', 'Not Available', '12',\n",
       "        'Electricity Net Generation From Wind, All Sectors',\n",
       "        'Million Kilowatthours'],\n",
       "       ['WYETPUS', '197512', 'Not Available', '12',\n",
       "        'Electricity Net Generation From Wind, All Sectors',\n",
       "        'Million Kilowatthours'],\n",
       "       ['WYETPUS', '197513', 'Not Available', '12',\n",
       "        'Electricity Net Generation From Wind, All Sectors',\n",
       "        'Million Kilowatthours'],\n",
       "       ['WYETPUS', '197601', 'Not Available', '12',\n",
       "        'Electricity Net Generation From Wind, All Sectors',\n",
       "        'Million Kilowatthours'],\n",
       "       ['WYETPUS', '197602', 'Not Available', '12',\n",
       "        'Electricity Net Generation From Wind, All Sectors',\n",
       "        'Million Kilowatthours'],\n",
       "       ['WYETPUS', '197603', 'Not Available', '12',\n",
       "        'Electricity Net Generation From Wind, All Sectors',\n",
       "        'Million Kilowatthours'],\n",
       "       ['WYETPUS', '197604', 'Not Available', '12',\n",
       "        'Electricity Net Generation From Wind, All Sectors',\n",
       "        'Million Kilowatthours'],\n",
       "       ['WYETPUS', '197605', 'Not Available', '12',\n",
       "        'Electricity Net Generation From Wind, All Sectors',\n",
       "        'Million Kilowatthours'],\n",
       "       ['WYETPUS', '197606', 'Not Available', '12',\n",
       "        'Electricity Net Generation From Wind, All Sectors',\n",
       "        'Million Kilowatthours'],\n",
       "       ['WYETPUS', '197607', 'Not Available', '12',\n",
       "        'Electricity Net Generation From Wind, All Sectors',\n",
       "        'Million Kilowatthours'],\n",
       "       ['WYETPUS', '197608', 'Not Available', '12',\n",
       "        'Electricity Net Generation From Wind, All Sectors',\n",
       "        'Million Kilowatthours'],\n",
       "       ['WYETPUS', '197609', 'Not Available', '12',\n",
       "        'Electricity Net Generation From Wind, All Sectors',\n",
       "        'Million Kilowatthours'],\n",
       "       ['WYETPUS', '197610', 'Not Available', '12',\n",
       "        'Electricity Net Generation From Wind, All Sectors',\n",
       "        'Million Kilowatthours'],\n",
       "       ['WYETPUS', '197611', 'Not Available', '12',\n",
       "        'Electricity Net Generation From Wind, All Sectors',\n",
       "        'Million Kilowatthours'],\n",
       "       ['WYETPUS', '197612', 'Not Available', '12',\n",
       "        'Electricity Net Generation From Wind, All Sectors',\n",
       "        'Million Kilowatthours'],\n",
       "       ['WYETPUS', '197613', 'Not Available', '12',\n",
       "        'Electricity Net Generation From Wind, All Sectors',\n",
       "        'Million Kilowatthours'],\n",
       "       ['WYETPUS', '197701', 'Not Available', '12',\n",
       "        'Electricity Net Generation From Wind, All Sectors',\n",
       "        'Million Kilowatthours'],\n",
       "       ['WYETPUS', '197702', 'Not Available', '12',\n",
       "        'Electricity Net Generation From Wind, All Sectors',\n",
       "        'Million Kilowatthours'],\n",
       "       ['WYETPUS', '197703', 'Not Available', '12',\n",
       "        'Electricity Net Generation From Wind, All Sectors',\n",
       "        'Million Kilowatthours'],\n",
       "       ['WYETPUS', '197704', 'Not Available', '12',\n",
       "        'Electricity Net Generation From Wind, All Sectors',\n",
       "        'Million Kilowatthours'],\n",
       "       ['WYETPUS', '197705', 'Not Available', '12',\n",
       "        'Electricity Net Generation From Wind, All Sectors',\n",
       "        'Million Kilowatthours'],\n",
       "       ['WYETPUS', '197706', 'Not Available', '12',\n",
       "        'Electricity Net Generation From Wind, All Sectors',\n",
       "        'Million Kilowatthours'],\n",
       "       ['WYETPUS', '197707', 'Not Available', '12',\n",
       "        'Electricity Net Generation From Wind, All Sectors',\n",
       "        'Million Kilowatthours'],\n",
       "       ['WYETPUS', '197708', 'Not Available', '12',\n",
       "        'Electricity Net Generation From Wind, All Sectors',\n",
       "        'Million Kilowatthours'],\n",
       "       ['WYETPUS', '197709', 'Not Available', '12',\n",
       "        'Electricity Net Generation From Wind, All Sectors',\n",
       "        'Million Kilowatthours'],\n",
       "       ['WYETPUS', '197710', 'Not Available', '12',\n",
       "        'Electricity Net Generation From Wind, All Sectors',\n",
       "        'Million Kilowatthours'],\n",
       "       ['WYETPUS', '197711', 'Not Available', '12',\n",
       "        'Electricity Net Generation From Wind, All Sectors',\n",
       "        'Million Kilowatthours'],\n",
       "       ['WYETPUS', '197712', 'Not Available', '12',\n",
       "        'Electricity Net Generation From Wind, All Sectors',\n",
       "        'Million Kilowatthours'],\n",
       "       ['WYETPUS', '197713', 'Not Available', '12',\n",
       "        'Electricity Net Generation From Wind, All Sectors',\n",
       "        'Million Kilowatthours'],\n",
       "       ['WYETPUS', '197801', 'Not Available', '12',\n",
       "        'Electricity Net Generation From Wind, All Sectors',\n",
       "        'Million Kilowatthours'],\n",
       "       ['WYETPUS', '197802', 'Not Available', '12',\n",
       "        'Electricity Net Generation From Wind, All Sectors',\n",
       "        'Million Kilowatthours'],\n",
       "       ['WYETPUS', '197803', 'Not Available', '12',\n",
       "        'Electricity Net Generation From Wind, All Sectors',\n",
       "        'Million Kilowatthours'],\n",
       "       ['WYETPUS', '197804', 'Not Available', '12',\n",
       "        'Electricity Net Generation From Wind, All Sectors',\n",
       "        'Million Kilowatthours'],\n",
       "       ['WYETPUS', '197805', 'Not Available', '12',\n",
       "        'Electricity Net Generation From Wind, All Sectors',\n",
       "        'Million Kilowatthours'],\n",
       "       ['WYETPUS', '197806', 'Not Available', '12',\n",
       "        'Electricity Net Generation From Wind, All Sectors',\n",
       "        'Million Kilowatthours'],\n",
       "       ['WYETPUS', '197807', 'Not Available', '12',\n",
       "        'Electricity Net Generation From Wind, All Sectors',\n",
       "        'Million Kilowatthours'],\n",
       "       ['WYETPUS', '197808', 'Not Available', '12',\n",
       "        'Electricity Net Generation From Wind, All Sectors',\n",
       "        'Million Kilowatthours'],\n",
       "       ['WYETPUS', '197809', 'Not Available', '12',\n",
       "        'Electricity Net Generation From Wind, All Sectors',\n",
       "        'Million Kilowatthours'],\n",
       "       ['WYETPUS', '197810', 'Not Available', '12',\n",
       "        'Electricity Net Generation From Wind, All Sectors',\n",
       "        'Million Kilowatthours'],\n",
       "       ['WYETPUS', '197811', 'Not Available', '12',\n",
       "        'Electricity Net Generation From Wind, All Sectors',\n",
       "        'Million Kilowatthours'],\n",
       "       ['WYETPUS', '197812', 'Not Available', '12',\n",
       "        'Electricity Net Generation From Wind, All Sectors',\n",
       "        'Million Kilowatthours'],\n",
       "       ['WYETPUS', '197813', 'Not Available', '12',\n",
       "        'Electricity Net Generation From Wind, All Sectors',\n",
       "        'Million Kilowatthours'],\n",
       "       ['WYETPUS', '197901', 'Not Available', '12',\n",
       "        'Electricity Net Generation From Wind, All Sectors',\n",
       "        'Million Kilowatthours'],\n",
       "       ['WYETPUS', '197902', 'Not Available', '12',\n",
       "        'Electricity Net Generation From Wind, All Sectors',\n",
       "        'Million Kilowatthours'],\n",
       "       ['WYETPUS', '197903', 'Not Available', '12',\n",
       "        'Electricity Net Generation From Wind, All Sectors',\n",
       "        'Million Kilowatthours'],\n",
       "       ['WYETPUS', '197904', 'Not Available', '12',\n",
       "        'Electricity Net Generation From Wind, All Sectors',\n",
       "        'Million Kilowatthours'],\n",
       "       ['WYETPUS', '197905', 'Not Available', '12',\n",
       "        'Electricity Net Generation From Wind, All Sectors',\n",
       "        'Million Kilowatthours'],\n",
       "       ['WYETPUS', '197906', 'Not Available', '12',\n",
       "        'Electricity Net Generation From Wind, All Sectors',\n",
       "        'Million Kilowatthours'],\n",
       "       ['WYETPUS', '197907', 'Not Available', '12',\n",
       "        'Electricity Net Generation From Wind, All Sectors',\n",
       "        'Million Kilowatthours'],\n",
       "       ['WYETPUS', '197908', 'Not Available', '12',\n",
       "        'Electricity Net Generation From Wind, All Sectors',\n",
       "        'Million Kilowatthours'],\n",
       "       ['WYETPUS', '197909', 'Not Available', '12',\n",
       "        'Electricity Net Generation From Wind, All Sectors',\n",
       "        'Million Kilowatthours'],\n",
       "       ['WYETPUS', '197910', 'Not Available', '12',\n",
       "        'Electricity Net Generation From Wind, All Sectors',\n",
       "        'Million Kilowatthours'],\n",
       "       ['WYETPUS', '197911', 'Not Available', '12',\n",
       "        'Electricity Net Generation From Wind, All Sectors',\n",
       "        'Million Kilowatthours'],\n",
       "       ['WYETPUS', '197912', 'Not Available', '12',\n",
       "        'Electricity Net Generation From Wind, All Sectors',\n",
       "        'Million Kilowatthours'],\n",
       "       ['WYETPUS', '197913', 'Not Available', '12',\n",
       "        'Electricity Net Generation From Wind, All Sectors',\n",
       "        'Million Kilowatthours'],\n",
       "       ['WYETPUS', '198001', 'Not Available', '12',\n",
       "        'Electricity Net Generation From Wind, All Sectors',\n",
       "        'Million Kilowatthours'],\n",
       "       ['WYETPUS', '198002', 'Not Available', '12',\n",
       "        'Electricity Net Generation From Wind, All Sectors',\n",
       "        'Million Kilowatthours'],\n",
       "       ['WYETPUS', '198003', 'Not Available', '12',\n",
       "        'Electricity Net Generation From Wind, All Sectors',\n",
       "        'Million Kilowatthours'],\n",
       "       ['WYETPUS', '198004', 'Not Available', '12',\n",
       "        'Electricity Net Generation From Wind, All Sectors',\n",
       "        'Million Kilowatthours'],\n",
       "       ['WYETPUS', '198005', 'Not Available', '12',\n",
       "        'Electricity Net Generation From Wind, All Sectors',\n",
       "        'Million Kilowatthours'],\n",
       "       ['WYETPUS', '198006', 'Not Available', '12',\n",
       "        'Electricity Net Generation From Wind, All Sectors',\n",
       "        'Million Kilowatthours'],\n",
       "       ['WYETPUS', '198007', 'Not Available', '12',\n",
       "        'Electricity Net Generation From Wind, All Sectors',\n",
       "        'Million Kilowatthours'],\n",
       "       ['WYETPUS', '198008', 'Not Available', '12',\n",
       "        'Electricity Net Generation From Wind, All Sectors',\n",
       "        'Million Kilowatthours'],\n",
       "       ['WYETPUS', '198009', 'Not Available', '12',\n",
       "        'Electricity Net Generation From Wind, All Sectors',\n",
       "        'Million Kilowatthours'],\n",
       "       ['WYETPUS', '198010', 'Not Available', '12',\n",
       "        'Electricity Net Generation From Wind, All Sectors',\n",
       "        'Million Kilowatthours'],\n",
       "       ['WYETPUS', '198011', 'Not Available', '12',\n",
       "        'Electricity Net Generation From Wind, All Sectors',\n",
       "        'Million Kilowatthours'],\n",
       "       ['WYETPUS', '198012', 'Not Available', '12',\n",
       "        'Electricity Net Generation From Wind, All Sectors',\n",
       "        'Million Kilowatthours'],\n",
       "       ['WYETPUS', '198013', 'Not Available', '12',\n",
       "        'Electricity Net Generation From Wind, All Sectors',\n",
       "        'Million Kilowatthours'],\n",
       "       ['WYETPUS', '198101', 'Not Available', '12',\n",
       "        'Electricity Net Generation From Wind, All Sectors',\n",
       "        'Million Kilowatthours'],\n",
       "       ['WYETPUS', '198102', 'Not Available', '12',\n",
       "        'Electricity Net Generation From Wind, All Sectors',\n",
       "        'Million Kilowatthours'],\n",
       "       ['WYETPUS', '198103', 'Not Available', '12',\n",
       "        'Electricity Net Generation From Wind, All Sectors',\n",
       "        'Million Kilowatthours'],\n",
       "       ['WYETPUS', '198104', 'Not Available', '12',\n",
       "        'Electricity Net Generation From Wind, All Sectors',\n",
       "        'Million Kilowatthours'],\n",
       "       ['WYETPUS', '198105', 'Not Available', '12',\n",
       "        'Electricity Net Generation From Wind, All Sectors',\n",
       "        'Million Kilowatthours'],\n",
       "       ['WYETPUS', '198106', 'Not Available', '12',\n",
       "        'Electricity Net Generation From Wind, All Sectors',\n",
       "        'Million Kilowatthours'],\n",
       "       ['WYETPUS', '198107', 'Not Available', '12',\n",
       "        'Electricity Net Generation From Wind, All Sectors',\n",
       "        'Million Kilowatthours'],\n",
       "       ['WYETPUS', '198108', 'Not Available', '12',\n",
       "        'Electricity Net Generation From Wind, All Sectors',\n",
       "        'Million Kilowatthours'],\n",
       "       ['WYETPUS', '198109', 'Not Available', '12',\n",
       "        'Electricity Net Generation From Wind, All Sectors',\n",
       "        'Million Kilowatthours'],\n",
       "       ['WYETPUS', '198110', 'Not Available', '12',\n",
       "        'Electricity Net Generation From Wind, All Sectors',\n",
       "        'Million Kilowatthours'],\n",
       "       ['WYETPUS', '198111', 'Not Available', '12',\n",
       "        'Electricity Net Generation From Wind, All Sectors',\n",
       "        'Million Kilowatthours'],\n",
       "       ['WYETPUS', '198112', 'Not Available', '12',\n",
       "        'Electricity Net Generation From Wind, All Sectors',\n",
       "        'Million Kilowatthours'],\n",
       "       ['WYETPUS', '198113', 'Not Available', '12',\n",
       "        'Electricity Net Generation From Wind, All Sectors',\n",
       "        'Million Kilowatthours'],\n",
       "       ['WYETPUS', '198201', 'Not Available', '12',\n",
       "        'Electricity Net Generation From Wind, All Sectors',\n",
       "        'Million Kilowatthours'],\n",
       "       ['WYETPUS', '198202', 'Not Available', '12',\n",
       "        'Electricity Net Generation From Wind, All Sectors',\n",
       "        'Million Kilowatthours'],\n",
       "       ['WYETPUS', '198203', 'Not Available', '12',\n",
       "        'Electricity Net Generation From Wind, All Sectors',\n",
       "        'Million Kilowatthours'],\n",
       "       ['WYETPUS', '198204', 'Not Available', '12',\n",
       "        'Electricity Net Generation From Wind, All Sectors',\n",
       "        'Million Kilowatthours'],\n",
       "       ['WYETPUS', '198205', 'Not Available', '12',\n",
       "        'Electricity Net Generation From Wind, All Sectors',\n",
       "        'Million Kilowatthours'],\n",
       "       ['WYETPUS', '198206', 'Not Available', '12',\n",
       "        'Electricity Net Generation From Wind, All Sectors',\n",
       "        'Million Kilowatthours'],\n",
       "       ['WYETPUS', '198207', 'Not Available', '12',\n",
       "        'Electricity Net Generation From Wind, All Sectors',\n",
       "        'Million Kilowatthours'],\n",
       "       ['WYETPUS', '198208', 'Not Available', '12',\n",
       "        'Electricity Net Generation From Wind, All Sectors',\n",
       "        'Million Kilowatthours'],\n",
       "       ['WYETPUS', '198209', 'Not Available', '12',\n",
       "        'Electricity Net Generation From Wind, All Sectors',\n",
       "        'Million Kilowatthours'],\n",
       "       ['WYETPUS', '198210', 'Not Available', '12',\n",
       "        'Electricity Net Generation From Wind, All Sectors',\n",
       "        'Million Kilowatthours'],\n",
       "       ['WYETPUS', '198211', 'Not Available', '12',\n",
       "        'Electricity Net Generation From Wind, All Sectors',\n",
       "        'Million Kilowatthours'],\n",
       "       ['WYETPUS', '198212', 'Not Available', '12',\n",
       "        'Electricity Net Generation From Wind, All Sectors',\n",
       "        'Million Kilowatthours'],\n",
       "       ['WYETPUS', '198213', 'Not Available', '12',\n",
       "        'Electricity Net Generation From Wind, All Sectors',\n",
       "        'Million Kilowatthours']], dtype='<U80')"
      ]
     },
     "execution_count": 228,
     "metadata": {},
     "output_type": "execute_result"
    }
   ],
   "source": [
    "available_mask =wind_data[:,2] == \"Not Available\"\n",
    "\n",
    "wind_data[available_mask]"
   ]
  },
  {
   "cell_type": "code",
   "execution_count": 229,
   "id": "cc4c083b",
   "metadata": {},
   "outputs": [
    {
     "data": {
      "text/plain": [
       "array([['WYETPUS', '198301', '0.172', '12',\n",
       "        'Electricity Net Generation From Wind, All Sectors',\n",
       "        'Million Kilowatthours'],\n",
       "       ['WYETPUS', '198302', '0.018', '12',\n",
       "        'Electricity Net Generation From Wind, All Sectors',\n",
       "        'Million Kilowatthours'],\n",
       "       ['WYETPUS', '198303', '0.313', '12',\n",
       "        'Electricity Net Generation From Wind, All Sectors',\n",
       "        'Million Kilowatthours'],\n",
       "       ...,\n",
       "       ['WYETPUS', '202209', '27024.307', '12',\n",
       "        'Electricity Net Generation From Wind, All Sectors',\n",
       "        'Million Kilowatthours'],\n",
       "       ['WYETPUS', '202210', '32824.906', '12',\n",
       "        'Electricity Net Generation From Wind, All Sectors',\n",
       "        'Million Kilowatthours'],\n",
       "       ['WYETPUS', '202211', '41971.407', '12',\n",
       "        'Electricity Net Generation From Wind, All Sectors',\n",
       "        'Million Kilowatthours']], dtype='<U80')"
      ]
     },
     "execution_count": 229,
     "metadata": {},
     "output_type": "execute_result"
    }
   ],
   "source": [
    "available_mask =wind_data[:,2] != \"Not Available\"\n",
    "\n",
    "wind_data[available_mask]"
   ]
  },
  {
   "cell_type": "code",
   "execution_count": 230,
   "id": "e3ae3277",
   "metadata": {},
   "outputs": [],
   "source": [
    "available_mask =wind_data[:,2] != \"Not Available\"\n",
    "\n",
    "wind_data = wind_data[available_mask]"
   ]
  },
  {
   "cell_type": "code",
   "execution_count": 231,
   "id": "289e2e76",
   "metadata": {},
   "outputs": [
    {
     "data": {
      "text/plain": [
       "array([['WYETPUS', '198301', '0.172', '12',\n",
       "        'Electricity Net Generation From Wind, All Sectors',\n",
       "        'Million Kilowatthours'],\n",
       "       ['WYETPUS', '198302', '0.018', '12',\n",
       "        'Electricity Net Generation From Wind, All Sectors',\n",
       "        'Million Kilowatthours'],\n",
       "       ['WYETPUS', '198303', '0.313', '12',\n",
       "        'Electricity Net Generation From Wind, All Sectors',\n",
       "        'Million Kilowatthours'],\n",
       "       ...,\n",
       "       ['WYETPUS', '202209', '27024.307', '12',\n",
       "        'Electricity Net Generation From Wind, All Sectors',\n",
       "        'Million Kilowatthours'],\n",
       "       ['WYETPUS', '202210', '32824.906', '12',\n",
       "        'Electricity Net Generation From Wind, All Sectors',\n",
       "        'Million Kilowatthours'],\n",
       "       ['WYETPUS', '202211', '41971.407', '12',\n",
       "        'Electricity Net Generation From Wind, All Sectors',\n",
       "        'Million Kilowatthours']], dtype='<U80')"
      ]
     },
     "execution_count": 231,
     "metadata": {},
     "output_type": "execute_result"
    }
   ],
   "source": [
    "wind_data"
   ]
  },
  {
   "cell_type": "markdown",
   "id": "524a78b1",
   "metadata": {},
   "source": [
    "## save clean wind data"
   ]
  },
  {
   "cell_type": "code",
   "execution_count": 232,
   "id": "3010ee47",
   "metadata": {},
   "outputs": [],
   "source": [
    "np.savetxt(\"wind.csv\", wind_data,fmt=\"%s\", delimiter=\",\")"
   ]
  },
  {
   "cell_type": "markdown",
   "id": "92be3d74",
   "metadata": {},
   "source": [
    "## Analysis"
   ]
  },
  {
   "cell_type": "code",
   "execution_count": 233,
   "id": "4bfb9d20",
   "metadata": {
    "scrolled": true
   },
   "outputs": [
    {
     "name": "stdout",
     "output_type": "stream",
     "text": [
      "198313\n",
      "198413\n",
      "198513\n",
      "198613\n",
      "198713\n",
      "198813\n",
      "198913\n",
      "199013\n",
      "199113\n",
      "199213\n",
      "199313\n",
      "199413\n",
      "199513\n",
      "199613\n",
      "199713\n",
      "199813\n",
      "199913\n",
      "200013\n",
      "200113\n",
      "200213\n",
      "200313\n",
      "200413\n",
      "200513\n",
      "200613\n",
      "200713\n",
      "200813\n",
      "200913\n",
      "201013\n",
      "201113\n",
      "201213\n",
      "201313\n",
      "201413\n",
      "201513\n",
      "201613\n",
      "201713\n",
      "201813\n",
      "201913\n",
      "202013\n",
      "202113\n"
     ]
    }
   ],
   "source": [
    "for x in wind_data[:,1]:\n",
    "    if x[-2:] ==\"13\":\n",
    "        print(x)"
   ]
  },
  {
   "cell_type": "code",
   "execution_count": 234,
   "id": "17d44f9c",
   "metadata": {},
   "outputs": [
    {
     "data": {
      "text/plain": [
       "array([False, False, False, False, False, False, False, False, False,\n",
       "       False, False, False,  True, False, False, False, False, False,\n",
       "       False, False, False, False, False, False, False,  True, False,\n",
       "       False, False, False, False, False, False, False, False, False,\n",
       "       False, False,  True, False, False, False, False, False, False,\n",
       "       False, False, False, False, False, False,  True, False, False,\n",
       "       False, False, False, False, False, False, False, False, False,\n",
       "       False,  True, False, False, False, False, False, False, False,\n",
       "       False, False, False, False, False,  True, False, False, False,\n",
       "       False, False, False, False, False, False, False, False, False,\n",
       "        True, False, False, False, False, False, False, False, False,\n",
       "       False, False, False, False,  True, False, False, False, False,\n",
       "       False, False, False, False, False, False, False, False,  True,\n",
       "       False, False, False, False, False, False, False, False, False,\n",
       "       False, False, False,  True, False, False, False, False, False,\n",
       "       False, False, False, False, False, False, False,  True, False,\n",
       "       False, False, False, False, False, False, False, False, False,\n",
       "       False, False,  True, False, False, False, False, False, False,\n",
       "       False, False, False, False, False, False,  True, False, False,\n",
       "       False, False, False, False, False, False, False, False, False,\n",
       "       False,  True, False, False, False, False, False, False, False,\n",
       "       False, False, False, False, False,  True, False, False, False,\n",
       "       False, False, False, False, False, False, False, False, False,\n",
       "        True, False, False, False, False, False, False, False, False,\n",
       "       False, False, False, False,  True, False, False, False, False,\n",
       "       False, False, False, False, False, False, False, False,  True,\n",
       "       False, False, False, False, False, False, False, False, False,\n",
       "       False, False, False,  True, False, False, False, False, False,\n",
       "       False, False, False, False, False, False, False,  True, False,\n",
       "       False, False, False, False, False, False, False, False, False,\n",
       "       False, False,  True, False, False, False, False, False, False,\n",
       "       False, False, False, False, False, False,  True, False, False,\n",
       "       False, False, False, False, False, False, False, False, False,\n",
       "       False,  True, False, False, False, False, False, False, False,\n",
       "       False, False, False, False, False,  True, False, False, False,\n",
       "       False, False, False, False, False, False, False, False, False,\n",
       "        True, False, False, False, False, False, False, False, False,\n",
       "       False, False, False, False,  True, False, False, False, False,\n",
       "       False, False, False, False, False, False, False, False,  True,\n",
       "       False, False, False, False, False, False, False, False, False,\n",
       "       False, False, False,  True, False, False, False, False, False,\n",
       "       False, False, False, False, False, False, False,  True, False,\n",
       "       False, False, False, False, False, False, False, False, False,\n",
       "       False, False,  True, False, False, False, False, False, False,\n",
       "       False, False, False, False, False, False,  True, False, False,\n",
       "       False, False, False, False, False, False, False, False, False,\n",
       "       False,  True, False, False, False, False, False, False, False,\n",
       "       False, False, False, False, False,  True, False, False, False,\n",
       "       False, False, False, False, False, False, False, False, False,\n",
       "        True, False, False, False, False, False, False, False, False,\n",
       "       False, False, False, False,  True, False, False, False, False,\n",
       "       False, False, False, False, False, False, False, False,  True,\n",
       "       False, False, False, False, False, False, False, False, False,\n",
       "       False, False, False,  True, False, False, False, False, False,\n",
       "       False, False, False, False, False, False, False,  True, False,\n",
       "       False, False, False, False, False, False, False, False, False,\n",
       "       False, False,  True, False, False, False, False, False, False,\n",
       "       False, False, False, False, False])"
      ]
     },
     "execution_count": 234,
     "metadata": {},
     "output_type": "execute_result"
    }
   ],
   "source": [
    "np.array([x[-2:] == '13' for x in wind_data[:,1]])"
   ]
  },
  {
   "cell_type": "code",
   "execution_count": 235,
   "id": "7e579394",
   "metadata": {},
   "outputs": [],
   "source": [
    "annual_mask = np.array([x[-2:] == '13' for x in wind_data[:,1]])"
   ]
  },
  {
   "cell_type": "code",
   "execution_count": 249,
   "id": "8fbe4aeb",
   "metadata": {},
   "outputs": [],
   "source": [
    "annual_wind_data = wind_data[annual_mask]"
   ]
  },
  {
   "cell_type": "code",
   "execution_count": 237,
   "id": "6a0dfc95",
   "metadata": {},
   "outputs": [
    {
     "data": {
      "text/plain": [
       "array([['WYETPUS', '198313', '2.668', '12',\n",
       "        'Electricity Net Generation From Wind, All Sectors',\n",
       "        'Million Kilowatthours'],\n",
       "       ['WYETPUS', '198413', '6.49', '12',\n",
       "        'Electricity Net Generation From Wind, All Sectors',\n",
       "        'Million Kilowatthours'],\n",
       "       ['WYETPUS', '198513', '5.762', '12',\n",
       "        'Electricity Net Generation From Wind, All Sectors',\n",
       "        'Million Kilowatthours'],\n",
       "       ['WYETPUS', '198613', '4.189', '12',\n",
       "        'Electricity Net Generation From Wind, All Sectors',\n",
       "        'Million Kilowatthours'],\n",
       "       ['WYETPUS', '198713', '3.541', '12',\n",
       "        'Electricity Net Generation From Wind, All Sectors',\n",
       "        'Million Kilowatthours'],\n",
       "       ['WYETPUS', '198813', '0.871', '12',\n",
       "        'Electricity Net Generation From Wind, All Sectors',\n",
       "        'Million Kilowatthours'],\n",
       "       ['WYETPUS', '198913', '2112.043', '12',\n",
       "        'Electricity Net Generation From Wind, All Sectors',\n",
       "        'Million Kilowatthours'],\n",
       "       ['WYETPUS', '199013', '2788.6', '12',\n",
       "        'Electricity Net Generation From Wind, All Sectors',\n",
       "        'Million Kilowatthours'],\n",
       "       ['WYETPUS', '199113', '2950.951', '12',\n",
       "        'Electricity Net Generation From Wind, All Sectors',\n",
       "        'Million Kilowatthours'],\n",
       "       ['WYETPUS', '199213', '2887.523', '12',\n",
       "        'Electricity Net Generation From Wind, All Sectors',\n",
       "        'Million Kilowatthours'],\n",
       "       ['WYETPUS', '199313', '3005.827', '12',\n",
       "        'Electricity Net Generation From Wind, All Sectors',\n",
       "        'Million Kilowatthours'],\n",
       "       ['WYETPUS', '199413', '3447.109', '12',\n",
       "        'Electricity Net Generation From Wind, All Sectors',\n",
       "        'Million Kilowatthours'],\n",
       "       ['WYETPUS', '199513', '3164.253', '12',\n",
       "        'Electricity Net Generation From Wind, All Sectors',\n",
       "        'Million Kilowatthours'],\n",
       "       ['WYETPUS', '199613', '3234.069', '12',\n",
       "        'Electricity Net Generation From Wind, All Sectors',\n",
       "        'Million Kilowatthours'],\n",
       "       ['WYETPUS', '199713', '3288.035', '12',\n",
       "        'Electricity Net Generation From Wind, All Sectors',\n",
       "        'Million Kilowatthours'],\n",
       "       ['WYETPUS', '199813', '3025.696', '12',\n",
       "        'Electricity Net Generation From Wind, All Sectors',\n",
       "        'Million Kilowatthours'],\n",
       "       ['WYETPUS', '199913', '4487.998', '12',\n",
       "        'Electricity Net Generation From Wind, All Sectors',\n",
       "        'Million Kilowatthours'],\n",
       "       ['WYETPUS', '200013', '5593.261', '12',\n",
       "        'Electricity Net Generation From Wind, All Sectors',\n",
       "        'Million Kilowatthours'],\n",
       "       ['WYETPUS', '200113', '6737.331', '12',\n",
       "        'Electricity Net Generation From Wind, All Sectors',\n",
       "        'Million Kilowatthours'],\n",
       "       ['WYETPUS', '200213', '10354.28', '12',\n",
       "        'Electricity Net Generation From Wind, All Sectors',\n",
       "        'Million Kilowatthours'],\n",
       "       ['WYETPUS', '200313', '11187.466', '12',\n",
       "        'Electricity Net Generation From Wind, All Sectors',\n",
       "        'Million Kilowatthours'],\n",
       "       ['WYETPUS', '200413', '14143.741', '12',\n",
       "        'Electricity Net Generation From Wind, All Sectors',\n",
       "        'Million Kilowatthours'],\n",
       "       ['WYETPUS', '200513', '17810.549', '12',\n",
       "        'Electricity Net Generation From Wind, All Sectors',\n",
       "        'Million Kilowatthours'],\n",
       "       ['WYETPUS', '200613', '26589.137', '12',\n",
       "        'Electricity Net Generation From Wind, All Sectors',\n",
       "        'Million Kilowatthours'],\n",
       "       ['WYETPUS', '200713', '34449.927', '12',\n",
       "        'Electricity Net Generation From Wind, All Sectors',\n",
       "        'Million Kilowatthours'],\n",
       "       ['WYETPUS', '200813', '55363.1', '12',\n",
       "        'Electricity Net Generation From Wind, All Sectors',\n",
       "        'Million Kilowatthours'],\n",
       "       ['WYETPUS', '200913', '73886.132', '12',\n",
       "        'Electricity Net Generation From Wind, All Sectors',\n",
       "        'Million Kilowatthours'],\n",
       "       ['WYETPUS', '201013', '94652.246', '12',\n",
       "        'Electricity Net Generation From Wind, All Sectors',\n",
       "        'Million Kilowatthours'],\n",
       "       ['WYETPUS', '201113', '120176.599', '12',\n",
       "        'Electricity Net Generation From Wind, All Sectors',\n",
       "        'Million Kilowatthours'],\n",
       "       ['WYETPUS', '201213', '140821.703', '12',\n",
       "        'Electricity Net Generation From Wind, All Sectors',\n",
       "        'Million Kilowatthours'],\n",
       "       ['WYETPUS', '201313', '167839.745', '12',\n",
       "        'Electricity Net Generation From Wind, All Sectors',\n",
       "        'Million Kilowatthours'],\n",
       "       ['WYETPUS', '201413', '181655.282', '12',\n",
       "        'Electricity Net Generation From Wind, All Sectors',\n",
       "        'Million Kilowatthours'],\n",
       "       ['WYETPUS', '201513', '190718.548', '12',\n",
       "        'Electricity Net Generation From Wind, All Sectors',\n",
       "        'Million Kilowatthours'],\n",
       "       ['WYETPUS', '201613', '226992.562', '12',\n",
       "        'Electricity Net Generation From Wind, All Sectors',\n",
       "        'Million Kilowatthours'],\n",
       "       ['WYETPUS', '201713', '254302.695', '12',\n",
       "        'Electricity Net Generation From Wind, All Sectors',\n",
       "        'Million Kilowatthours'],\n",
       "       ['WYETPUS', '201813', '272667.454', '12',\n",
       "        'Electricity Net Generation From Wind, All Sectors',\n",
       "        'Million Kilowatthours'],\n",
       "       ['WYETPUS', '201913', '295882.484', '12',\n",
       "        'Electricity Net Generation From Wind, All Sectors',\n",
       "        'Million Kilowatthours'],\n",
       "       ['WYETPUS', '202013', '337938.049', '12',\n",
       "        'Electricity Net Generation From Wind, All Sectors',\n",
       "        'Million Kilowatthours'],\n",
       "       ['WYETPUS', '202113', '378196.775', '12',\n",
       "        'Electricity Net Generation From Wind, All Sectors',\n",
       "        'Million Kilowatthours']], dtype='<U80')"
      ]
     },
     "execution_count": 237,
     "metadata": {},
     "output_type": "execute_result"
    }
   ],
   "source": [
    "annual_wind_data"
   ]
  },
  {
   "cell_type": "markdown",
   "id": "6dd7feba",
   "metadata": {},
   "source": [
    "## 1.Total energy generated"
   ]
  },
  {
   "cell_type": "code",
   "execution_count": 238,
   "id": "d1963ef3",
   "metadata": {
    "scrolled": true
   },
   "outputs": [
    {
     "data": {
      "text/plain": [
       "array(['0.172', '0.018', '0.313', '0.214', '0.251', '0.212', '0.097',\n",
       "       '0.01', '0.378', '0.464', '0.423', '0.117', '2.668', '0.041',\n",
       "       '0.199', '0.184', '0.562', '0.758', '0.599', '0.468', '0.266',\n",
       "       '0.499', '0.87', '0.847', '1.197', '6.49', '0.635', '1.093',\n",
       "       '0.69', '0.581', '0.337', '0.337', '0.071', '0.363', '0.832',\n",
       "       '0.524', '0.194', '0.105', '5.762', '0.155', '0.169', '0.69',\n",
       "       '0.613', '0.74', '0.502', '0.522', '0.46', '0.069', '0.227',\n",
       "       '0.012', '0.03', '4.189', '0.075', '0.004', '-0.009', '0.146',\n",
       "       '0.328', '0.965', '1.226', '0.232', '0.226', '0.062', '0.063',\n",
       "       '0.224', '3.541', '0.642', '-0.001', '0.03', '0.031', '0.016',\n",
       "       '0.013', '-0.004', '0.022', '0.005', '0.033', '0.031', '0.053',\n",
       "       '0.871', '145.754', '223.489', '255.996', '238.112', '204.252',\n",
       "       '156.368', '142.075', '103.095', '280.158', '175.613', '122.834',\n",
       "       '64.296', '2112.043', '301.281', '231.216', '245.229', '420.392',\n",
       "       '350.327', '406.379', '119.111', '70.065', '91.085', '203.189',\n",
       "       '231.216', '119.111', '2788.6', '62.125', '289.918', '207.084',\n",
       "       '238.147', '362.397', '155.313', '155.313', '227.793', '207.084',\n",
       "       '424.523', '424.523', '196.73', '2950.951', '150.001', '515.629',\n",
       "       '328.128', '318.753', '93.751', '75.001', '75.001', '140.626',\n",
       "       '318.753', '243.752', '281.252', '346.878', '2887.523', '247.393',\n",
       "       '49.479', '519.526', '371.09', '371.09', '86.588', '136.066',\n",
       "       '74.218', '136.066', '284.502', '457.677', '272.132', '3005.827',\n",
       "       '0', '100.401', '546.629', '412.761', '368.138', '368.138',\n",
       "       '189.647', '133.868', '312.359', '356.982', '490.85', '167.335',\n",
       "       '3447.109', '5.703', '23.382', '4.562', '6.843', '408.613',\n",
       "       '498.433', '619.905', '545.767', '572.856', '256.63', '125.179',\n",
       "       '96.379', '3164.253', '147.279', '111.817', '187.533', '244.4',\n",
       "       '391.679', '375.705', '535.125', '415.001', '351.425', '253.026',\n",
       "       '98.718', '122.36', '3234.069', '120.475', '108.923', '148.531',\n",
       "       '324.018', '350.423', '517.108', '509.406', '530.31', '260.204',\n",
       "       '274.507', '72.615', '71.515', '3288.035', '17.395', '8.186',\n",
       "       '6.139', '85.951', '143.252', '394.967', '547.429', '421.571',\n",
       "       '475.803', '298.784', '181.112', '445.106', '3025.696', '337.019',\n",
       "       '308.918', '446.692', '373.317', '275.548', '253.887', '456.059',\n",
       "       '382.294', '377.415', '418.591', '354.192', '504.066', '4487.998',\n",
       "       '645.286', '705.904', '350.019', '330.074', '408.095', '447.007',\n",
       "       '379.937', '376.417', '332.42', '411.419', '823.033', '383.652',\n",
       "       '5593.261', '389.25', '431.242', '532.12', '684.695', '635.029',\n",
       "       '669.634', '634.992', '577.206', '490.229', '606.829', '470.448',\n",
       "       '615.657', '6737.331', '811.402', '713.931', '852.102', '1024.417',\n",
       "       '1077.641', '1126.316', '890.455', '976.691', '735.829', '734.355',\n",
       "       '655.947', '755.194', '10354.28', '632.339', '745.375', '1036.104',\n",
       "       '1092.766', '1006.383', '1047.145', '953.396', '815.429',\n",
       "       '895.054', '897.161', '961.433', '1104.881', '11187.466',\n",
       "       '999.445', '1021.569', '1291.224', '1294.857', '1701.651',\n",
       "       '1397.206', '1164.37', '1050.719', '1089.615', '1028.873',\n",
       "       '932.203', '1172.009', '14143.741', '1131.569', '966.482',\n",
       "       '1560.626', '1697.504', '1746.43', '1796.924', '1420.942',\n",
       "       '1138.032', '1468.347', '1446.19', '1609.691', '1827.814',\n",
       "       '17810.549', '2382.633', '1921.958', '2358.632', '2471.762',\n",
       "       '2458.683', '2051.766', '1955.064', '1655.187', '1879.144',\n",
       "       '2442.13', '2540.489', '2471.69', '26589.137', '2452.315',\n",
       "       '2519.793', '3047.092', '3171.703', '2952.341', '2620.416',\n",
       "       '2158.372', '2699.365', '2866.722', '3376.54', '3095.036',\n",
       "       '3490.232', '34449.927', '4273.185', '3851.749', '4782.02',\n",
       "       '5225.282', '5340.284', '5140.376', '4008.401', '3264.406',\n",
       "       '3111.452', '4756.401', '4993.646', '6615.899', '55363.1',\n",
       "       '5950.825', '5852.175', '7099.063', '7457.696', '6261.961',\n",
       "       '5599.422', '4954.941', '5464.474', '4650.708', '6813.626',\n",
       "       '6875.183', '6906.058', '73886.132', '6854.337', '5431.858',\n",
       "       '8589.077', '9764.456', '8697.525', '8049.021', '6723.891',\n",
       "       '6685.855', '7105.502', '7943.808', '9747.619', '9059.297',\n",
       "       '94652.246', '8550.495', '10451.562', '10544.646', '12421.657',\n",
       "       '11772.161', '10985.069', '7488.629', '7473.594', '6869.029',\n",
       "       '10525.429', '12438.553', '10655.775', '120176.599', '13632.395',\n",
       "       '11051.982', '14026.442', '12709.239', '12540.523', '11972.304',\n",
       "       '8821.542', '8468.912', '8789.666', '12635.641', '11648.59',\n",
       "       '14524.467', '140821.703', '14738.504', '14075.591', '15755.653',\n",
       "       '17476.274', '16238.702', '13748.106', '11093.614', '9633.884',\n",
       "       '11674.081', '13635.018', '15803.26', '13967.059', '167839.745',\n",
       "       '17911.214', '14008.66', '17735.883', '18635.549', '15601.367',\n",
       "       '15798.817', '12187.392', '10170.521', '11519.768', '14507.931',\n",
       "       '18866.929', '14711.249', '181655.282', '15162.146', '14921.545',\n",
       "       '15307.929', '17867.149', '17151.341', '13421.266', '13675.449',\n",
       "       '13080.028', '13971.567', '16380.039', '19681.716', '20098.373',\n",
       "       '190718.548', '18466.402', '20138.228', '21939.409', '20799.303',\n",
       "       '18847.899', '16303.441', '17618.357', '13589.326', '16403.64',\n",
       "       '20335.39', '19405.642', '23145.525', '226992.562', '20798.771',\n",
       "       '22091.109', '25730.617', '25377.943', '23067.639', '20141.747',\n",
       "       '16119.996', '13878.848', '17911.775', '24368.703', '22614.867',\n",
       "       '22200.681', '254302.695', '25598.822', '23189.489', '26463.704',\n",
       "       '26430.857', '23953.128', '24702.856', '16446.574', '19846.437',\n",
       "       '18519.671', '21193.898', '22015.734', '24306.284', '272667.454',\n",
       "       '24301.45', '22622.753', '25772.678', '28915.306', '25779.387',\n",
       "       '22445.97', '22100.722', '19978.031', '24513.468', '27624.519',\n",
       "       '25184.359', '26643.84', '295882.484', '28121.411', '29110.495',\n",
       "       '29319.783', '29752.229', '28377.505', '30212.405', '22866.198',\n",
       "       '23029.332', '23185.978', '28822.663', '33129.405', '32010.645',\n",
       "       '337938.049', '30060.471', '26715.501', '39205.248', '36157.807',\n",
       "       '33786.508', '26671.534', '21715.552', '27071.122', '28997.803',\n",
       "       '32215.111', '35751.091', '39849.028', '378196.775', '38083.974',\n",
       "       '37992.489', '43015.752', '45929.799', '41645.058', '33478.679',\n",
       "       '29269.063', '24344.581', '27024.307', '32824.906', '41971.407'],\n",
       "      dtype='<U80')"
      ]
     },
     "execution_count": 238,
     "metadata": {},
     "output_type": "execute_result"
    }
   ],
   "source": [
    "wind_data[:,2]"
   ]
  },
  {
   "cell_type": "code",
   "execution_count": 239,
   "id": "95b59bce",
   "metadata": {
    "scrolled": true
   },
   "outputs": [
    {
     "data": {
      "text/plain": [
       "array([ 1.72000000e-01,  1.80000000e-02,  3.13000000e-01,  2.14000000e-01,\n",
       "        2.51000000e-01,  2.12000000e-01,  9.70000000e-02,  1.00000000e-02,\n",
       "        3.78000000e-01,  4.64000000e-01,  4.23000000e-01,  1.17000000e-01,\n",
       "        2.66800000e+00,  4.10000000e-02,  1.99000000e-01,  1.84000000e-01,\n",
       "        5.62000000e-01,  7.58000000e-01,  5.99000000e-01,  4.68000000e-01,\n",
       "        2.66000000e-01,  4.99000000e-01,  8.70000000e-01,  8.47000000e-01,\n",
       "        1.19700000e+00,  6.49000000e+00,  6.35000000e-01,  1.09300000e+00,\n",
       "        6.90000000e-01,  5.81000000e-01,  3.37000000e-01,  3.37000000e-01,\n",
       "        7.10000000e-02,  3.63000000e-01,  8.32000000e-01,  5.24000000e-01,\n",
       "        1.94000000e-01,  1.05000000e-01,  5.76200000e+00,  1.55000000e-01,\n",
       "        1.69000000e-01,  6.90000000e-01,  6.13000000e-01,  7.40000000e-01,\n",
       "        5.02000000e-01,  5.22000000e-01,  4.60000000e-01,  6.90000000e-02,\n",
       "        2.27000000e-01,  1.20000000e-02,  3.00000000e-02,  4.18900000e+00,\n",
       "        7.50000000e-02,  4.00000000e-03, -9.00000000e-03,  1.46000000e-01,\n",
       "        3.28000000e-01,  9.65000000e-01,  1.22600000e+00,  2.32000000e-01,\n",
       "        2.26000000e-01,  6.20000000e-02,  6.30000000e-02,  2.24000000e-01,\n",
       "        3.54100000e+00,  6.42000000e-01, -1.00000000e-03,  3.00000000e-02,\n",
       "        3.10000000e-02,  1.60000000e-02,  1.30000000e-02, -4.00000000e-03,\n",
       "        2.20000000e-02,  5.00000000e-03,  3.30000000e-02,  3.10000000e-02,\n",
       "        5.30000000e-02,  8.71000000e-01,  1.45754000e+02,  2.23489000e+02,\n",
       "        2.55996000e+02,  2.38112000e+02,  2.04252000e+02,  1.56368000e+02,\n",
       "        1.42075000e+02,  1.03095000e+02,  2.80158000e+02,  1.75613000e+02,\n",
       "        1.22834000e+02,  6.42960000e+01,  2.11204300e+03,  3.01281000e+02,\n",
       "        2.31216000e+02,  2.45229000e+02,  4.20392000e+02,  3.50327000e+02,\n",
       "        4.06379000e+02,  1.19111000e+02,  7.00650000e+01,  9.10850000e+01,\n",
       "        2.03189000e+02,  2.31216000e+02,  1.19111000e+02,  2.78860000e+03,\n",
       "        6.21250000e+01,  2.89918000e+02,  2.07084000e+02,  2.38147000e+02,\n",
       "        3.62397000e+02,  1.55313000e+02,  1.55313000e+02,  2.27793000e+02,\n",
       "        2.07084000e+02,  4.24523000e+02,  4.24523000e+02,  1.96730000e+02,\n",
       "        2.95095100e+03,  1.50001000e+02,  5.15629000e+02,  3.28128000e+02,\n",
       "        3.18753000e+02,  9.37510000e+01,  7.50010000e+01,  7.50010000e+01,\n",
       "        1.40626000e+02,  3.18753000e+02,  2.43752000e+02,  2.81252000e+02,\n",
       "        3.46878000e+02,  2.88752300e+03,  2.47393000e+02,  4.94790000e+01,\n",
       "        5.19526000e+02,  3.71090000e+02,  3.71090000e+02,  8.65880000e+01,\n",
       "        1.36066000e+02,  7.42180000e+01,  1.36066000e+02,  2.84502000e+02,\n",
       "        4.57677000e+02,  2.72132000e+02,  3.00582700e+03,  0.00000000e+00,\n",
       "        1.00401000e+02,  5.46629000e+02,  4.12761000e+02,  3.68138000e+02,\n",
       "        3.68138000e+02,  1.89647000e+02,  1.33868000e+02,  3.12359000e+02,\n",
       "        3.56982000e+02,  4.90850000e+02,  1.67335000e+02,  3.44710900e+03,\n",
       "        5.70300000e+00,  2.33820000e+01,  4.56200000e+00,  6.84300000e+00,\n",
       "        4.08613000e+02,  4.98433000e+02,  6.19905000e+02,  5.45767000e+02,\n",
       "        5.72856000e+02,  2.56630000e+02,  1.25179000e+02,  9.63790000e+01,\n",
       "        3.16425300e+03,  1.47279000e+02,  1.11817000e+02,  1.87533000e+02,\n",
       "        2.44400000e+02,  3.91679000e+02,  3.75705000e+02,  5.35125000e+02,\n",
       "        4.15001000e+02,  3.51425000e+02,  2.53026000e+02,  9.87180000e+01,\n",
       "        1.22360000e+02,  3.23406900e+03,  1.20475000e+02,  1.08923000e+02,\n",
       "        1.48531000e+02,  3.24018000e+02,  3.50423000e+02,  5.17108000e+02,\n",
       "        5.09406000e+02,  5.30310000e+02,  2.60204000e+02,  2.74507000e+02,\n",
       "        7.26150000e+01,  7.15150000e+01,  3.28803500e+03,  1.73950000e+01,\n",
       "        8.18600000e+00,  6.13900000e+00,  8.59510000e+01,  1.43252000e+02,\n",
       "        3.94967000e+02,  5.47429000e+02,  4.21571000e+02,  4.75803000e+02,\n",
       "        2.98784000e+02,  1.81112000e+02,  4.45106000e+02,  3.02569600e+03,\n",
       "        3.37019000e+02,  3.08918000e+02,  4.46692000e+02,  3.73317000e+02,\n",
       "        2.75548000e+02,  2.53887000e+02,  4.56059000e+02,  3.82294000e+02,\n",
       "        3.77415000e+02,  4.18591000e+02,  3.54192000e+02,  5.04066000e+02,\n",
       "        4.48799800e+03,  6.45286000e+02,  7.05904000e+02,  3.50019000e+02,\n",
       "        3.30074000e+02,  4.08095000e+02,  4.47007000e+02,  3.79937000e+02,\n",
       "        3.76417000e+02,  3.32420000e+02,  4.11419000e+02,  8.23033000e+02,\n",
       "        3.83652000e+02,  5.59326100e+03,  3.89250000e+02,  4.31242000e+02,\n",
       "        5.32120000e+02,  6.84695000e+02,  6.35029000e+02,  6.69634000e+02,\n",
       "        6.34992000e+02,  5.77206000e+02,  4.90229000e+02,  6.06829000e+02,\n",
       "        4.70448000e+02,  6.15657000e+02,  6.73733100e+03,  8.11402000e+02,\n",
       "        7.13931000e+02,  8.52102000e+02,  1.02441700e+03,  1.07764100e+03,\n",
       "        1.12631600e+03,  8.90455000e+02,  9.76691000e+02,  7.35829000e+02,\n",
       "        7.34355000e+02,  6.55947000e+02,  7.55194000e+02,  1.03542800e+04,\n",
       "        6.32339000e+02,  7.45375000e+02,  1.03610400e+03,  1.09276600e+03,\n",
       "        1.00638300e+03,  1.04714500e+03,  9.53396000e+02,  8.15429000e+02,\n",
       "        8.95054000e+02,  8.97161000e+02,  9.61433000e+02,  1.10488100e+03,\n",
       "        1.11874660e+04,  9.99445000e+02,  1.02156900e+03,  1.29122400e+03,\n",
       "        1.29485700e+03,  1.70165100e+03,  1.39720600e+03,  1.16437000e+03,\n",
       "        1.05071900e+03,  1.08961500e+03,  1.02887300e+03,  9.32203000e+02,\n",
       "        1.17200900e+03,  1.41437410e+04,  1.13156900e+03,  9.66482000e+02,\n",
       "        1.56062600e+03,  1.69750400e+03,  1.74643000e+03,  1.79692400e+03,\n",
       "        1.42094200e+03,  1.13803200e+03,  1.46834700e+03,  1.44619000e+03,\n",
       "        1.60969100e+03,  1.82781400e+03,  1.78105490e+04,  2.38263300e+03,\n",
       "        1.92195800e+03,  2.35863200e+03,  2.47176200e+03,  2.45868300e+03,\n",
       "        2.05176600e+03,  1.95506400e+03,  1.65518700e+03,  1.87914400e+03,\n",
       "        2.44213000e+03,  2.54048900e+03,  2.47169000e+03,  2.65891370e+04,\n",
       "        2.45231500e+03,  2.51979300e+03,  3.04709200e+03,  3.17170300e+03,\n",
       "        2.95234100e+03,  2.62041600e+03,  2.15837200e+03,  2.69936500e+03,\n",
       "        2.86672200e+03,  3.37654000e+03,  3.09503600e+03,  3.49023200e+03,\n",
       "        3.44499270e+04,  4.27318500e+03,  3.85174900e+03,  4.78202000e+03,\n",
       "        5.22528200e+03,  5.34028400e+03,  5.14037600e+03,  4.00840100e+03,\n",
       "        3.26440600e+03,  3.11145200e+03,  4.75640100e+03,  4.99364600e+03,\n",
       "        6.61589900e+03,  5.53631000e+04,  5.95082500e+03,  5.85217500e+03,\n",
       "        7.09906300e+03,  7.45769600e+03,  6.26196100e+03,  5.59942200e+03,\n",
       "        4.95494100e+03,  5.46447400e+03,  4.65070800e+03,  6.81362600e+03,\n",
       "        6.87518300e+03,  6.90605800e+03,  7.38861320e+04,  6.85433700e+03,\n",
       "        5.43185800e+03,  8.58907700e+03,  9.76445600e+03,  8.69752500e+03,\n",
       "        8.04902100e+03,  6.72389100e+03,  6.68585500e+03,  7.10550200e+03,\n",
       "        7.94380800e+03,  9.74761900e+03,  9.05929700e+03,  9.46522460e+04,\n",
       "        8.55049500e+03,  1.04515620e+04,  1.05446460e+04,  1.24216570e+04,\n",
       "        1.17721610e+04,  1.09850690e+04,  7.48862900e+03,  7.47359400e+03,\n",
       "        6.86902900e+03,  1.05254290e+04,  1.24385530e+04,  1.06557750e+04,\n",
       "        1.20176599e+05,  1.36323950e+04,  1.10519820e+04,  1.40264420e+04,\n",
       "        1.27092390e+04,  1.25405230e+04,  1.19723040e+04,  8.82154200e+03,\n",
       "        8.46891200e+03,  8.78966600e+03,  1.26356410e+04,  1.16485900e+04,\n",
       "        1.45244670e+04,  1.40821703e+05,  1.47385040e+04,  1.40755910e+04,\n",
       "        1.57556530e+04,  1.74762740e+04,  1.62387020e+04,  1.37481060e+04,\n",
       "        1.10936140e+04,  9.63388400e+03,  1.16740810e+04,  1.36350180e+04,\n",
       "        1.58032600e+04,  1.39670590e+04,  1.67839745e+05,  1.79112140e+04,\n",
       "        1.40086600e+04,  1.77358830e+04,  1.86355490e+04,  1.56013670e+04,\n",
       "        1.57988170e+04,  1.21873920e+04,  1.01705210e+04,  1.15197680e+04,\n",
       "        1.45079310e+04,  1.88669290e+04,  1.47112490e+04,  1.81655282e+05,\n",
       "        1.51621460e+04,  1.49215450e+04,  1.53079290e+04,  1.78671490e+04,\n",
       "        1.71513410e+04,  1.34212660e+04,  1.36754490e+04,  1.30800280e+04,\n",
       "        1.39715670e+04,  1.63800390e+04,  1.96817160e+04,  2.00983730e+04,\n",
       "        1.90718548e+05,  1.84664020e+04,  2.01382280e+04,  2.19394090e+04,\n",
       "        2.07993030e+04,  1.88478990e+04,  1.63034410e+04,  1.76183570e+04,\n",
       "        1.35893260e+04,  1.64036400e+04,  2.03353900e+04,  1.94056420e+04,\n",
       "        2.31455250e+04,  2.26992562e+05,  2.07987710e+04,  2.20911090e+04,\n",
       "        2.57306170e+04,  2.53779430e+04,  2.30676390e+04,  2.01417470e+04,\n",
       "        1.61199960e+04,  1.38788480e+04,  1.79117750e+04,  2.43687030e+04,\n",
       "        2.26148670e+04,  2.22006810e+04,  2.54302695e+05,  2.55988220e+04,\n",
       "        2.31894890e+04,  2.64637040e+04,  2.64308570e+04,  2.39531280e+04,\n",
       "        2.47028560e+04,  1.64465740e+04,  1.98464370e+04,  1.85196710e+04,\n",
       "        2.11938980e+04,  2.20157340e+04,  2.43062840e+04,  2.72667454e+05,\n",
       "        2.43014500e+04,  2.26227530e+04,  2.57726780e+04,  2.89153060e+04,\n",
       "        2.57793870e+04,  2.24459700e+04,  2.21007220e+04,  1.99780310e+04,\n",
       "        2.45134680e+04,  2.76245190e+04,  2.51843590e+04,  2.66438400e+04,\n",
       "        2.95882484e+05,  2.81214110e+04,  2.91104950e+04,  2.93197830e+04,\n",
       "        2.97522290e+04,  2.83775050e+04,  3.02124050e+04,  2.28661980e+04,\n",
       "        2.30293320e+04,  2.31859780e+04,  2.88226630e+04,  3.31294050e+04,\n",
       "        3.20106450e+04,  3.37938049e+05,  3.00604710e+04,  2.67155010e+04,\n",
       "        3.92052480e+04,  3.61578070e+04,  3.37865080e+04,  2.66715340e+04,\n",
       "        2.17155520e+04,  2.70711220e+04,  2.89978030e+04,  3.22151110e+04,\n",
       "        3.57510910e+04,  3.98490280e+04,  3.78196775e+05,  3.80839740e+04,\n",
       "        3.79924890e+04,  4.30157520e+04,  4.59297990e+04,  4.16450580e+04,\n",
       "        3.34786790e+04,  2.92690630e+04,  2.43445810e+04,  2.70243070e+04,\n",
       "        3.28249060e+04,  4.19714070e+04])"
      ]
     },
     "execution_count": 239,
     "metadata": {},
     "output_type": "execute_result"
    }
   ],
   "source": [
    "wind_data[:,2].astype(float) "
   ]
  },
  {
   "cell_type": "code",
   "execution_count": 240,
   "id": "bb67e125",
   "metadata": {},
   "outputs": [],
   "source": [
    "all_energy = annual_wind_data[:,2].astype(float) "
   ]
  },
  {
   "cell_type": "code",
   "execution_count": 241,
   "id": "2303f689",
   "metadata": {},
   "outputs": [
    {
     "data": {
      "text/plain": [
       "2952374.691"
      ]
     },
     "execution_count": 241,
     "metadata": {},
     "output_type": "execute_result"
    }
   ],
   "source": [
    "all_energy.sum()"
   ]
  },
  {
   "cell_type": "code",
   "execution_count": 242,
   "id": "59030ffe",
   "metadata": {},
   "outputs": [
    {
     "name": "stdout",
     "output_type": "stream",
     "text": [
      "The total wind energy generated in USB between 1986 - 2021 is: 2952374.691 Killowatt per hours\n"
     ]
    }
   ],
   "source": [
    "print(\"The total wind energy generated in USB between 1986 - 2021 is: {} Killowatt per hours\".format(all_energy.sum()))"
   ]
  },
  {
   "cell_type": "markdown",
   "id": "6a64006e",
   "metadata": {},
   "source": [
    "## 2.the standard deviation"
   ]
  },
  {
   "cell_type": "code",
   "execution_count": 243,
   "id": "a9c793bb",
   "metadata": {},
   "outputs": [
    {
     "data": {
      "text/plain": [
       "109069.92321094654"
      ]
     },
     "execution_count": 243,
     "metadata": {},
     "output_type": "execute_result"
    }
   ],
   "source": [
    "all_energy.std()"
   ]
  },
  {
   "cell_type": "markdown",
   "id": "30b8d6ae",
   "metadata": {},
   "source": [
    "## 3. the mean energy generated "
   ]
  },
  {
   "cell_type": "code",
   "execution_count": 244,
   "id": "a647b7bd",
   "metadata": {
    "scrolled": true
   },
   "outputs": [
    {
     "data": {
      "text/plain": [
       "75701.91515384616"
      ]
     },
     "execution_count": 244,
     "metadata": {},
     "output_type": "execute_result"
    }
   ],
   "source": [
    "all_energy.mean()"
   ]
  },
  {
   "cell_type": "code",
   "execution_count": 245,
   "id": "f538ae23",
   "metadata": {},
   "outputs": [],
   "source": [
    "import numpy as np\n",
    "import matplotlib.pyplot as plt\n",
    "import csv"
   ]
  },
  {
   "cell_type": "code",
   "execution_count": 246,
   "id": "c13dd222",
   "metadata": {},
   "outputs": [],
   "source": [
    "x = wind_data[:,1]\n",
    "y = wind_data[:,2]"
   ]
  },
  {
   "cell_type": "code",
   "execution_count": 247,
   "id": "32dc0a81",
   "metadata": {},
   "outputs": [],
   "source": [
    "x = annual_wind_data[:,1] #year\n",
    "y = annual_wind_data[:,2] # energy"
   ]
  },
  {
   "cell_type": "code",
   "execution_count": 248,
   "id": "e20ff648",
   "metadata": {},
   "outputs": [
    {
     "data": {
      "image/png": "[encoded data removed]",
      "text/plain": [
       "<Figure size 640x480 with 1 Axes>"
      ]
     },
     "metadata": {},
     "output_type": "display_data"
    }
   ],
   "source": [
    "plt.plot(x,y)\n",
    "plt.xlabel(\"year\")\n",
    "plt.ylabel(\"energy generated\")\n",
    "plt.show()"
   ]
  },
  {
   "cell_type": "markdown",
   "id": "7dca4277",
   "metadata": {},
   "source": [
    "## extract the minimum energy and what year was it generated"
   ]
  },
  {
   "cell_type": "code",
   "execution_count": 250,
   "id": "22523dd5",
   "metadata": {},
   "outputs": [
    {
     "data": {
      "text/plain": [
       "0.871"
      ]
     },
     "execution_count": 250,
     "metadata": {},
     "output_type": "execute_result"
    }
   ],
   "source": [
    "all_energy = annual_wind_data[:,2].astype(float) \n",
    "all_energy.min()"
   ]
  },
  {
   "cell_type": "code",
   "execution_count": 251,
   "id": "de6fc74d",
   "metadata": {},
   "outputs": [
    {
     "data": {
      "text/plain": [
       "378196.775"
      ]
     },
     "execution_count": 251,
     "metadata": {},
     "output_type": "execute_result"
    }
   ],
   "source": [
    "all_energy = annual_wind_data[:,2].astype(float) \n",
    "all_energy.max()"
   ]
  },
  {
   "cell_type": "code",
   "execution_count": null,
   "id": "13caa262",
   "metadata": {},
   "outputs": [],
   "source": []
  }
 ],
 "metadata": {
  "kernelspec": {
   "display_name": "Python 3 (ipykernel)",
   "language": "python",
   "name": "python3"
  },
  "language_info": {
   "codemirror_mode": {
    "name": "ipython",
    "version": 3
   },
   "file_extension": ".py",
   "mimetype": "text/x-python",
   "name": "python",
   "nbconvert_exporter": "python",
   "pygments_lexer": "ipython3",
   "version": "3.10.9"
  }
 },
 "nbformat": 4,
 "nbformat_minor": 5
}
